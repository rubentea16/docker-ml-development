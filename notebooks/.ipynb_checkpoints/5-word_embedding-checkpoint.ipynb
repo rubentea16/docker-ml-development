{
 "cells": [
  {
   "cell_type": "code",
   "execution_count": 1,
   "metadata": {},
   "outputs": [],
   "source": [
    "import pandas as pd\n",
    "import numpy as np\n",
    "import pickle\n",
    "from tqdm.notebook import tqdm\n",
    "from glove import Corpus\n",
    "from mittens import GloVe"
   ]
  },
  {
   "cell_type": "code",
   "execution_count": 2,
   "metadata": {},
   "outputs": [],
   "source": [
    "filename = \"../data/train/train_dataset.csv\""
   ]
  },
  {
   "cell_type": "code",
   "execution_count": 3,
   "metadata": {},
   "outputs": [],
   "source": [
    "data = pd.read_csv(filename, header=None, names=['text','label'])"
   ]
  },
  {
   "cell_type": "code",
   "execution_count": 4,
   "metadata": {},
   "outputs": [],
   "source": [
    "'''\n",
    "    Create list of sentences\n",
    "'''\n",
    "sentences = []\n",
    "sentence = []\n",
    "\n",
    "for word in data.text:\n",
    "    if type(word)!=float:\n",
    "        sentence.append(word)\n",
    "    else:\n",
    "        sentences.append(' '.join(sentence))\n",
    "        sentence = []"
   ]
  },
  {
   "cell_type": "code",
   "execution_count": 5,
   "metadata": {},
   "outputs": [],
   "source": [
    "def read_corpus(sentences):\n",
    "    '''\n",
    "    Read corpus from list (generator)\n",
    "    '''\n",
    "    for line in sentences:\n",
    "        yield line.lower().split(' ')"
   ]
  },
  {
   "cell_type": "code",
   "execution_count": 6,
   "metadata": {},
   "outputs": [],
   "source": [
    "# read corpus\n",
    "get_data = read_corpus(sentences)\n",
    "# create co-occurence matrix\n",
    "corpus_model = Corpus()\n",
    "corpus_model.fit(get_data, window=10)\n",
    "# create word2idx from corpus\n",
    "word2idx_corpus = sorted(corpus_model.dictionary.items(), key=lambda x: x[1])"
   ]
  },
  {
   "cell_type": "code",
   "execution_count": 7,
   "metadata": {},
   "outputs": [
    {
     "name": "stdout",
     "output_type": "stream",
     "text": [
      "WARNING:tensorflow:From /usr/local/lib/python3.6/dist-packages/tensorflow_core/python/training/adagrad.py:76: calling Constant.__init__ (from tensorflow.python.ops.init_ops) with dtype is deprecated and will be removed in a future version.\n",
      "Instructions for updating:\n",
      "Call initializer instance with the dtype argument instead of passing it to the constructor\n"
     ]
    },
    {
     "name": "stderr",
     "output_type": "stream",
     "text": [
      "Iteration 5000: loss: 4.5993299484252935"
     ]
    }
   ],
   "source": [
    "# Load `cooccurrence`\n",
    "cooccurrence = corpus_model.matrix.toarray()\n",
    "# embedding dimension is 300, iteration is 5000\n",
    "glove_model = GloVe(n=300, max_iter=5000) \n",
    "embeddings = glove_model.fit(cooccurrence)"
   ]
  },
  {
   "cell_type": "code",
   "execution_count": 8,
   "metadata": {},
   "outputs": [],
   "source": [
    "pickle.dump(word2idx_corpus, open(\"../data/pickle_file/word2idx_corpus.pkl\", \"wb\"))"
   ]
  },
  {
   "cell_type": "code",
   "execution_count": 9,
   "metadata": {},
   "outputs": [],
   "source": [
    "filename = '../model/glove_embedding.pkl'\n",
    "pickle.dump(embeddings, open(filename, \"wb\"))"
   ]
  },
  {
   "cell_type": "code",
   "execution_count": null,
   "metadata": {},
   "outputs": [],
   "source": []
  }
 ],
 "metadata": {
  "kernelspec": {
   "display_name": "Python 3",
   "language": "python",
   "name": "python3"
  },
  "language_info": {
   "codemirror_mode": {
    "name": "ipython",
    "version": 3
   },
   "file_extension": ".py",
   "mimetype": "text/x-python",
   "name": "python",
   "nbconvert_exporter": "python",
   "pygments_lexer": "ipython3",
   "version": "3.6.9"
  }
 },
 "nbformat": 4,
 "nbformat_minor": 4
}
