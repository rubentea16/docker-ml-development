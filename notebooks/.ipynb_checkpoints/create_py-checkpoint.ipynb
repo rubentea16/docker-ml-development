{
 "cells": [
  {
   "cell_type": "code",
   "execution_count": 1,
   "metadata": {},
   "outputs": [
    {
     "name": "stdout",
     "output_type": "stream",
     "text": [
      "1-create_train_data.ipynb\t   6-modelling.ipynb\n",
      "1-delete_specific_data.ipynb\t   7-inference_testing.ipynb\n",
      "2-give_label.ipynb\t\t   __pycache__\n",
      "3-convert_train_data_format.ipynb  backup_development_glove.ipynb\n",
      "4-convert_test_data_format.ipynb   cooccur.py\n",
      "5-word_embedding.ipynb\t\t   create_py.ipynb\n"
     ]
    }
   ],
   "source": [
    "!ls"
   ]
  },
  {
   "cell_type": "code",
   "execution_count": 2,
   "metadata": {},
   "outputs": [
    {
     "name": "stdout",
     "output_type": "stream",
     "text": [
      "[NbConvertApp] Converting notebook 6-modelling.ipynb to script\n",
      "[NbConvertApp] Writing 17399 bytes to 6-modelling.py\n"
     ]
    }
   ],
   "source": [
    "!jupyter nbconvert --to script 6-modelling.ipynb"
   ]
  },
  {
   "cell_type": "code",
   "execution_count": null,
   "metadata": {},
   "outputs": [],
   "source": []
  }
 ],
 "metadata": {
  "kernelspec": {
   "display_name": "Python 3",
   "language": "python",
   "name": "python3"
  },
  "language_info": {
   "codemirror_mode": {
    "name": "ipython",
    "version": 3
   },
   "file_extension": ".py",
   "mimetype": "text/x-python",
   "name": "python",
   "nbconvert_exporter": "python",
   "pygments_lexer": "ipython3",
   "version": "3.6.9"
  }
 },
 "nbformat": 4,
 "nbformat_minor": 4
}
