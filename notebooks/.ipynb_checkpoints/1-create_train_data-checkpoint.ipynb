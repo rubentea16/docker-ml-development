{
 "cells": [
  {
   "cell_type": "code",
   "execution_count": 1,
   "metadata": {},
   "outputs": [],
   "source": [
    "import pandas as pd\n",
    "import random\n",
    "from tqdm.notebook import tqdm\n",
    "from random import sample"
   ]
  },
  {
   "cell_type": "code",
   "execution_count": 2,
   "metadata": {},
   "outputs": [],
   "source": [
    "# Data sebagai bahan baku u/ generate kalimat order\n",
    "df_bahan = pd.read_excel(\"../data/resource/bahan baku bikin kalimat.xlsx\")\n",
    "\n",
    "# Dictionary u/ convert kata ke bentuk spelling-nya\n",
    "df_conv_spell = pd.read_excel(\"../data/resource/dict_conv_spelling.xlsx\")\n",
    "\n",
    "# Dictionary kata-kata pada orderan yg sudah dikategorikan berdasarkan label entity\n",
    "df_kata = pd.read_excel(\"../data/resource/dict_order.xlsx\")"
   ]
  },
  {
   "cell_type": "code",
   "execution_count": 3,
   "metadata": {},
   "outputs": [],
   "source": [
    "'''Untuk setiap product & uom variant dipisahkan dengan (@) '''\n",
    "product = df_bahan['product variant'].dropna()\n",
    "uom = df_bahan['uom variant'].dropna()\n",
    "numeric = df_bahan.numeric.dropna()\n",
    "\n",
    "'''Untuk setiap kata dan posibility spelling dipisahkan dengan (@)'''\n",
    "word = df_conv_spell.word.dropna()\n",
    "spell = df_conv_spell.spell.dropna()"
   ]
  },
  {
   "cell_type": "code",
   "execution_count": 4,
   "metadata": {},
   "outputs": [],
   "source": [
    "list_product = []\n",
    "list_product_delimiter = []\n",
    "list_word = []\n",
    "\n",
    "\n",
    "list_product_delimiter = product.values.tolist() # it's contain '@' as delimiter\n",
    "    \n",
    "product = product[product!='@'] # remove '@'\n",
    "product = product.reset_index(drop=True)\n",
    "list_product = product.values.tolist() # it's doesn't have '@' as delimiter\n",
    "\n",
    "word = word[word!='@']\n",
    "word = word.reset_index(drop=True)\n",
    "list_word = word.values.tolist()"
   ]
  },
  {
   "cell_type": "code",
   "execution_count": 5,
   "metadata": {},
   "outputs": [],
   "source": [
    "join_product = ','.join(list_product_delimiter)\n",
    "join_spell = ','.join(spell)\n",
    "join_uom = ','.join(uom)"
   ]
  },
  {
   "cell_type": "code",
   "execution_count": 6,
   "metadata": {},
   "outputs": [],
   "source": [
    "spell = join_spell.split('@')\n",
    "uom = join_uom.split('@')\n",
    "prod = join_product.split('@')\n",
    "\n",
    "spell_word = [i.strip(',') for i in spell]\n",
    "uom_word = [i.strip(',') for i in uom]\n",
    "prod_word = [i.strip(',') for i in prod]"
   ]
  },
  {
   "cell_type": "code",
   "execution_count": 7,
   "metadata": {},
   "outputs": [],
   "source": [
    "# Total product which have this UOM type\n",
    "length_product = [len(data.split(',')) for data in prod_word]"
   ]
  },
  {
   "cell_type": "code",
   "execution_count": 8,
   "metadata": {},
   "outputs": [],
   "source": [
    "## New UOM\n",
    "new_uom = []\n",
    "\n",
    "for idx in range (len(length_product)):\n",
    "    for i in range (length_product[idx]):\n",
    "        new_uom.append(uom_word[idx])"
   ]
  },
  {
   "cell_type": "code",
   "execution_count": 9,
   "metadata": {},
   "outputs": [],
   "source": [
    "'''\n",
    "    Combine product + numeric + uom\n",
    "    which is product already translate to spelling format\n",
    "'''\n",
    "data = []\n",
    "\n",
    "for line in list_product:        \n",
    "    status = False\n",
    "    for word in list_word:\n",
    "        if word in line:\n",
    "            status = True\n",
    "            after_word = spell_word[list_word.index(word)]\n",
    "            temp_uom = new_uom[list_word.index(word)]\n",
    "            \n",
    "            for val_spell in after_word.split(','):\n",
    "                for val_uom in temp_uom.split(','):\n",
    "                    for num in numeric:\n",
    "                        data.append(line.replace(word, val_spell)+' '+num+' '+val_uom)\n",
    "                        \n",
    "    if status == False:\n",
    "        temp_uom = new_uom[list_product.index(line)]\n",
    "        for val_uom in temp_uom.split(','):\n",
    "            for num in numeric:\n",
    "                data.append(line+' '+num+' '+val_uom)\n",
    "                \n",
    "data = [' '.join(line.strip().split()) for line in data]"
   ]
  },
  {
   "cell_type": "code",
   "execution_count": 10,
   "metadata": {},
   "outputs": [],
   "source": [
    "# For make sure that all word already translate to spelling format\n",
    "for i in range(3):\n",
    "    for idx in range(0,len(data)):\n",
    "        for word in list_word:\n",
    "            if word in data[idx]:\n",
    "                after_word = spell_word[list_word.index(word)]\n",
    "            \n",
    "                for val_spell in after_word.split(','):\n",
    "                    data[idx] = data[idx].replace(word, val_spell)"
   ]
  },
  {
   "cell_type": "code",
   "execution_count": 11,
   "metadata": {},
   "outputs": [
    {
     "data": {
      "text/plain": [
       "'enerjen sachet coklat juh lembar'"
      ]
     },
     "execution_count": 11,
     "metadata": {},
     "output_type": "execute_result"
    }
   ],
   "source": [
    "random.choice(data)"
   ]
  },
  {
   "cell_type": "code",
   "execution_count": 12,
   "metadata": {},
   "outputs": [],
   "source": [
    "# Save data as file text\n",
    "with open('../data/train/artificial_data.txt','w') as outfile:\n",
    "    for line in data:\n",
    "        outfile.write('%s\\n' % line)"
   ]
  },
  {
   "cell_type": "code",
   "execution_count": null,
   "metadata": {},
   "outputs": [],
   "source": []
  }
 ],
 "metadata": {
  "kernelspec": {
   "display_name": "Python 3",
   "language": "python",
   "name": "python3"
  },
  "language_info": {
   "codemirror_mode": {
    "name": "ipython",
    "version": 3
   },
   "file_extension": ".py",
   "mimetype": "text/x-python",
   "name": "python",
   "nbconvert_exporter": "python",
   "pygments_lexer": "ipython3",
   "version": "3.6.9"
  }
 },
 "nbformat": 4,
 "nbformat_minor": 4
}
