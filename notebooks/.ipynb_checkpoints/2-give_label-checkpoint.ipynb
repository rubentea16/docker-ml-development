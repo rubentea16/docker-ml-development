{
 "cells": [
  {
   "cell_type": "code",
   "execution_count": 1,
   "metadata": {},
   "outputs": [],
   "source": [
    "import pandas as pd\n",
    "from tqdm.notebook import tqdm"
   ]
  },
  {
   "cell_type": "code",
   "execution_count": 2,
   "metadata": {},
   "outputs": [],
   "source": [
    "## Path of file\n",
    "# file which want to give label [train data/test data]\n",
    "filename_train = \"../data/clean/data.txt\"\n",
    "filename_test = \"../data/testing/clear-sent-comb.txt\"\n",
    "filename_vocab = \"../data/clean/dict_order.xlsx\"\n",
    "filename_replace_word = \"../data/clean/replace quantity.xlsx\""
   ]
  },
  {
   "cell_type": "code",
   "execution_count": 3,
   "metadata": {},
   "outputs": [],
   "source": [
    "## Create list of vocabulary, list of vocabulary+label\n",
    "df_vocab = pd.read_excel(filename_vocab)\n",
    "\n",
    "list_vocab = []\n",
    "list_vocab_label = []\n",
    "\n",
    "for col in df_vocab.columns:\n",
    "    for val in df_vocab[col].dropna():\n",
    "        list_vocab.append(val.lower().rstrip())\n",
    "        list_vocab_label.append(val.lower().rstrip()+':'+col)"
   ]
  },
  {
   "cell_type": "code",
   "execution_count": 4,
   "metadata": {},
   "outputs": [],
   "source": [
    "## Load train/test data\n",
    "data = []\n",
    "with open(filename_test, encoding='utf-8') as f:\n",
    "    for i in f:\n",
    "        data.append(i.strip().lower())"
   ]
  },
  {
   "cell_type": "code",
   "execution_count": 5,
   "metadata": {},
   "outputs": [
    {
     "data": {
      "application/vnd.jupyter.widget-view+json": {
       "model_id": "f58f995c9ed8413398eeda52311f3e25",
       "version_major": 2,
       "version_minor": 0
      },
      "text/plain": [
       "HBox(children=(FloatProgress(value=0.0, max=127260.0), HTML(value='')))"
      ]
     },
     "metadata": {},
     "output_type": "display_data"
    },
    {
     "name": "stdout",
     "output_type": "stream",
     "text": [
      "\n"
     ]
    }
   ],
   "source": [
    "## Replace 'Sesachet' -> 'satu sachet'\n",
    "df_replace_word = pd.read_excel(filename_replace_word)\n",
    "dict_replace_word = pd.Series(df_replace_word.after.values, index=df_replace_word.before).to_dict()\n",
    "\n",
    "new_data = []\n",
    "\n",
    "for line in tqdm(data):\n",
    "    check_status = 0\n",
    "    for key, val in dict_replace_word.items():\n",
    "        if key in line:\n",
    "            check_status = 1\n",
    "            new_data.append(line.replace(key,val))\n",
    "    if check_status != 1:\n",
    "        new_data.append(line)"
   ]
  },
  {
   "cell_type": "code",
   "execution_count": 6,
   "metadata": {},
   "outputs": [
    {
     "data": {
      "application/vnd.jupyter.widget-view+json": {
       "model_id": "6e1c79789e2240328f91503437c3d51b",
       "version_major": 2,
       "version_minor": 0
      },
      "text/plain": [
       "HBox(children=(FloatProgress(value=0.0, max=127466.0), HTML(value='')))"
      ]
     },
     "metadata": {},
     "output_type": "display_data"
    },
    {
     "name": "stdout",
     "output_type": "stream",
     "text": [
      "\n"
     ]
    }
   ],
   "source": [
    "'''\n",
    "    Give label based on special conditions or even without conditions\n",
    "'''\n",
    "result = []\n",
    "out_of_vocab = []\n",
    "\n",
    "for i in tqdm(new_data):\n",
    "    list_label = []\n",
    "    tokenize_word = i.split()\n",
    "    for token in tokenize_word :\n",
    "        if token in list_vocab:\n",
    "            if ((token == 'kopi') or (token == 'susu')) and (tokenize_word.index(token) == 0):\n",
    "                list_label.append('item')\n",
    "            elif (token == 'delapan') and ('tujuh' not in i):\n",
    "                list_label.append('numeric')\n",
    "            elif (token == 'cap') and (('lang' in i) or ('badak' in i)):\n",
    "                list_label.append('b-brand')\n",
    "            elif (token == 'cap') and ('lang' not in i):\n",
    "                list_label.append('uom')\n",
    "            elif (token == 'kopi') or (token == 'susu'):\n",
    "                list_label.append('flavor')\n",
    "            elif ('dua belas' in i) and ((token == 'dua') or (token == 'belas')):\n",
    "                list_label.append('desc')\n",
    "            elif ('enam belas' in i) and ((token == 'enam') or (token == 'belas')):\n",
    "                list_label.append('desc')\n",
    "            elif ('dua puluh' in i) and ((token == 'dua') or (token == 'puluh')):\n",
    "                list_label.append('desc')\n",
    "            elif (('tujuh enam' in i)or('tujuh puluh enam' in i)) and ((token =='tujuh')or(token=='puluh')or(token=='enam')):\n",
    "                list_label.append('desc')\n",
    "            elif (token == 'bos') and ('nutri' not in i):\n",
    "                list_label.append('eoo')\n",
    "            elif (token == 'dua') and ('mx' not in i):\n",
    "                list_label.append('numeric')\n",
    "            elif (token == 'tiga') and ('kaki' not in i):\n",
    "                list_label.append('numeric')\n",
    "            elif (token == 'wan') and ('yusi' not in i):\n",
    "                list_label.append('numeric')\n",
    "            elif (token == 'tujuh') and ('delapan' not in i):\n",
    "                list_label.append('numeric')\n",
    "            elif ((token == 'ekstra') or (token == 'ektra')) and (tokenize_word.index(token) == 1):\n",
    "                list_label.append('desc')\n",
    "            else :\n",
    "                idx_vocab = list_vocab.index(token.lower())\n",
    "                list_label.append(list_vocab_label[idx_vocab].split(':')[1])\n",
    "        else :\n",
    "            out_of_vocab.append(token)\n",
    "    result.append(i+':'+(' '.join(list_label)))\n",
    "\n",
    "out_of_vocab = set(out_of_vocab)"
   ]
  },
  {
   "cell_type": "code",
   "execution_count": 7,
   "metadata": {},
   "outputs": [
    {
     "data": {
      "text/plain": [
       "set()"
      ]
     },
     "execution_count": 7,
     "metadata": {},
     "output_type": "execute_result"
    }
   ],
   "source": [
    "out_of_vocab"
   ]
  },
  {
   "cell_type": "code",
   "execution_count": 8,
   "metadata": {},
   "outputs": [
    {
     "data": {
      "application/vnd.jupyter.widget-view+json": {
       "model_id": "987bdeb4330040e0ae0b7649e22f3fec",
       "version_major": 2,
       "version_minor": 0
      },
      "text/plain": [
       "HBox(children=(FloatProgress(value=0.0, max=127466.0), HTML(value='')))"
      ]
     },
     "metadata": {},
     "output_type": "display_data"
    },
    {
     "name": "stdout",
     "output_type": "stream",
     "text": [
      "\n"
     ]
    }
   ],
   "source": [
    "path_train_data = '../data/clean/data-with-label.txt'\n",
    "path_test_data = '../data/testing/clear-sent-comb-with-label.txt'\n",
    "\n",
    "with open(path_test_data,'w') as outfile:\n",
    "    for line in tqdm(result):\n",
    "        outfile.write('%s\\n' % line)"
   ]
  },
  {
   "cell_type": "code",
   "execution_count": 9,
   "metadata": {},
   "outputs": [
    {
     "data": {
      "text/plain": [
       "['enam kotak garpit:numeric uom brand',\n",
       " 'enam kotak gepe:numeric uom brand',\n",
       " 'tujuh kotak garpit:numeric uom brand',\n",
       " 'tujuh kotak gepe:numeric uom brand',\n",
       " 'delapan kotak garpit:numeric uom brand',\n",
       " 'delapan kotak gepe:numeric uom brand',\n",
       " 'sembilan kotak garpit:numeric uom brand',\n",
       " 'sembilan kotak gepe:numeric uom brand',\n",
       " 'sepuluh kotak garpit:numeric uom brand',\n",
       " 'sepuluh kotak gepe:numeric uom brand']"
      ]
     },
     "execution_count": 9,
     "metadata": {},
     "output_type": "execute_result"
    }
   ],
   "source": [
    "result[-10:]"
   ]
  },
  {
   "cell_type": "code",
   "execution_count": 10,
   "metadata": {},
   "outputs": [
    {
     "data": {
      "text/plain": [
       "127466"
      ]
     },
     "execution_count": 10,
     "metadata": {},
     "output_type": "execute_result"
    }
   ],
   "source": [
    "len(result)"
   ]
  },
  {
   "cell_type": "code",
   "execution_count": null,
   "metadata": {},
   "outputs": [],
   "source": []
  }
 ],
 "metadata": {
  "kernelspec": {
   "display_name": "Python 3",
   "language": "python",
   "name": "python3"
  },
  "language_info": {
   "codemirror_mode": {
    "name": "ipython",
    "version": 3
   },
   "file_extension": ".py",
   "mimetype": "text/x-python",
   "name": "python",
   "nbconvert_exporter": "python",
   "pygments_lexer": "ipython3",
   "version": "3.6.9"
  }
 },
 "nbformat": 4,
 "nbformat_minor": 4
}
