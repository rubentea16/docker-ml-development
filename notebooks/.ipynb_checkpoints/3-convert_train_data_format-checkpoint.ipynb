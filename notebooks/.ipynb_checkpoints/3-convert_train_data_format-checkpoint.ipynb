{
 "cells": [
  {
   "cell_type": "markdown",
   "metadata": {},
   "source": [
    "# Convert Data Format and Add Sentence which have specific format"
   ]
  },
  {
   "cell_type": "code",
   "execution_count": 1,
   "metadata": {},
   "outputs": [
    {
     "data": {
      "text/plain": [
       "'\\n    Before format (1 line) -> Abese Kopi Susu Sachet Satu Saset:BRAND DESCRIPTION DESCRIPTION UOM NUMERIC UOM\\n    \\n    After format (7 line) -> Abese,BRAND \\n                             Kopi,DESCRIPTION\\n                             Susu,DESCRIPTION\\n                             Sachet,UOM\\n                             Satu,NUMERIC\\n                             Saset,UOM\\n                             NaN\\n'"
      ]
     },
     "execution_count": 1,
     "metadata": {},
     "output_type": "execute_result"
    }
   ],
   "source": [
    "\"\"\"\n",
    "    Before format (1 line) -> Abese Kopi Susu Sachet Satu Saset:BRAND DESCRIPTION DESCRIPTION UOM NUMERIC UOM\n",
    "    \n",
    "    After format (7 line) -> Abese,BRAND \n",
    "                             Kopi,DESCRIPTION\n",
    "                             Susu,DESCRIPTION\n",
    "                             Sachet,UOM\n",
    "                             Satu,NUMERIC\n",
    "                             Saset,UOM\n",
    "                             NaN\n",
    "\"\"\""
   ]
  },
  {
   "cell_type": "code",
   "execution_count": 2,
   "metadata": {},
   "outputs": [],
   "source": [
    "import pandas as pd\n",
    "import numpy as np\n",
    "from sklearn.utils import shuffle\n",
    "from tqdm.notebook import tqdm\n",
    "import pandas as pd\n",
    "import random"
   ]
  },
  {
   "cell_type": "code",
   "execution_count": 3,
   "metadata": {},
   "outputs": [],
   "source": [
    "filename = \"../data/train/artificial_data-with-label.txt\"\n",
    "filename_kata = \"../data/resource/dict_order.xlsx\""
   ]
  },
  {
   "cell_type": "code",
   "execution_count": 4,
   "metadata": {},
   "outputs": [],
   "source": [
    "df = pd.read_excel(filename_kata)\n",
    "data = pd.read_csv(filename, sep=\":\", header=None, names=['text','label'])"
   ]
  },
  {
   "cell_type": "code",
   "execution_count": 5,
   "metadata": {},
   "outputs": [],
   "source": [
    "data = shuffle(data)\n",
    "data.reset_index(inplace=True, drop=True)"
   ]
  },
  {
   "cell_type": "code",
   "execution_count": 6,
   "metadata": {},
   "outputs": [
    {
     "data": {
      "application/vnd.jupyter.widget-view+json": {
       "model_id": "8db6e76caef34609a0bab1ada2cd2c68",
       "version_major": 2,
       "version_minor": 0
      },
      "text/plain": [
       "HBox(children=(FloatProgress(value=0.0, max=258546.0), HTML(value='')))"
      ]
     },
     "metadata": {},
     "output_type": "display_data"
    },
    {
     "name": "stdout",
     "output_type": "stream",
     "text": [
      "\n"
     ]
    }
   ],
   "source": [
    "\"\"\"\n",
    "    Proses convert data format\n",
    "    Input : DataFrame berisi text dan label\n",
    "    Output : List (words, labels)\n",
    "\"\"\"\n",
    "words = []\n",
    "labels = []\n",
    "\n",
    "for idx in tqdm(range(len(data))):\n",
    "    length_words = len(data.loc[idx,'text'].split())\n",
    "    tokenize_words = data.loc[idx,'text'].split()\n",
    "    tokenize_labels = data.loc[idx,'label'].split()\n",
    "    \n",
    "    for i in range(length_words):\n",
    "        words.append(tokenize_words[i])\n",
    "        labels.append(tokenize_labels[i])\n",
    "    \n",
    "    words.append(np.nan)\n",
    "    labels.append(np.nan)"
   ]
  },
  {
   "cell_type": "markdown",
   "metadata": {},
   "source": [
    "## Prepare dictionary for entity and label"
   ]
  },
  {
   "cell_type": "code",
   "execution_count": 7,
   "metadata": {},
   "outputs": [
    {
     "data": {
      "text/html": [
       "<div>\n",
       "<style scoped>\n",
       "    .dataframe tbody tr th:only-of-type {\n",
       "        vertical-align: middle;\n",
       "    }\n",
       "\n",
       "    .dataframe tbody tr th {\n",
       "        vertical-align: top;\n",
       "    }\n",
       "\n",
       "    .dataframe thead th {\n",
       "        text-align: right;\n",
       "    }\n",
       "</style>\n",
       "<table border=\"1\" class=\"dataframe\">\n",
       "  <thead>\n",
       "    <tr style=\"text-align: right;\">\n",
       "      <th></th>\n",
       "      <th>item</th>\n",
       "      <th>brand</th>\n",
       "      <th>b-brand</th>\n",
       "      <th>i-brand</th>\n",
       "      <th>o-brand</th>\n",
       "      <th>desc</th>\n",
       "      <th>numeric</th>\n",
       "      <th>uom</th>\n",
       "      <th>color</th>\n",
       "      <th>flavor</th>\n",
       "      <th>conj-single</th>\n",
       "      <th>conj-multiple</th>\n",
       "      <th>soo</th>\n",
       "      <th>eoo</th>\n",
       "    </tr>\n",
       "  </thead>\n",
       "  <tbody>\n",
       "    <tr>\n",
       "      <th>0</th>\n",
       "      <td>amplop</td>\n",
       "      <td>abese</td>\n",
       "      <td>adem</td>\n",
       "      <td>sam</td>\n",
       "      <td>reno</td>\n",
       "      <td>refil</td>\n",
       "      <td>satu</td>\n",
       "      <td>bungkus</td>\n",
       "      <td>hitam</td>\n",
       "      <td>pepermin</td>\n",
       "      <td>atau</td>\n",
       "      <td>dan</td>\n",
       "      <td>mas</td>\n",
       "      <td>oke</td>\n",
       "    </tr>\n",
       "    <tr>\n",
       "      <th>1</th>\n",
       "      <td>susu</td>\n",
       "      <td>abece</td>\n",
       "      <td>san</td>\n",
       "      <td>cap</td>\n",
       "      <td>lang</td>\n",
       "      <td>repil</td>\n",
       "      <td>atu</td>\n",
       "      <td>kecil</td>\n",
       "      <td>item</td>\n",
       "      <td>papermin</td>\n",
       "      <td>ato</td>\n",
       "      <td>sama</td>\n",
       "      <td>bapak</td>\n",
       "      <td>makasih</td>\n",
       "    </tr>\n",
       "    <tr>\n",
       "      <th>2</th>\n",
       "      <td>donat</td>\n",
       "      <td>ades</td>\n",
       "      <td>anget</td>\n",
       "      <td>kaki</td>\n",
       "      <td>bren</td>\n",
       "      <td>long</td>\n",
       "      <td>tu</td>\n",
       "      <td>kecik</td>\n",
       "      <td>itam</td>\n",
       "      <td>pepermen</td>\n",
       "      <td>NaN</td>\n",
       "      <td>ama</td>\n",
       "      <td>pak</td>\n",
       "      <td>terima</td>\n",
       "    </tr>\n",
       "    <tr>\n",
       "      <th>3</th>\n",
       "      <td>emping</td>\n",
       "      <td>ale</td>\n",
       "      <td>cap</td>\n",
       "      <td>wan</td>\n",
       "      <td>bran</td>\n",
       "      <td>syain</td>\n",
       "      <td>dua</td>\n",
       "      <td>keteng</td>\n",
       "      <td>coklat</td>\n",
       "      <td>coklat</td>\n",
       "      <td>NaN</td>\n",
       "      <td>NaN</td>\n",
       "      <td>kakak</td>\n",
       "      <td>kasih</td>\n",
       "    </tr>\n",
       "    <tr>\n",
       "      <th>4</th>\n",
       "      <td>gorengan</td>\n",
       "      <td>apace</td>\n",
       "      <td>bir</td>\n",
       "      <td>gren</td>\n",
       "      <td>super</td>\n",
       "      <td>sine</td>\n",
       "      <td>dobel</td>\n",
       "      <td>ketengan</td>\n",
       "      <td>cokelat</td>\n",
       "      <td>cokelat</td>\n",
       "      <td>NaN</td>\n",
       "      <td>NaN</td>\n",
       "      <td>kakak</td>\n",
       "      <td>bos</td>\n",
       "    </tr>\n",
       "  </tbody>\n",
       "</table>\n",
       "</div>"
      ],
      "text/plain": [
       "       item  brand b-brand i-brand o-brand   desc numeric       uom    color  \\\n",
       "0    amplop  abese    adem     sam    reno  refil    satu   bungkus    hitam   \n",
       "1      susu  abece     san     cap    lang  repil     atu     kecil     item   \n",
       "2     donat   ades   anget    kaki    bren   long      tu     kecik     itam   \n",
       "3    emping    ale     cap     wan    bran  syain     dua    keteng   coklat   \n",
       "4  gorengan  apace     bir    gren   super   sine   dobel  ketengan  cokelat   \n",
       "\n",
       "     flavor conj-single conj-multiple    soo      eoo  \n",
       "0  pepermin        atau           dan    mas      oke  \n",
       "1  papermin         ato          sama  bapak  makasih  \n",
       "2  pepermen         NaN           ama    pak   terima  \n",
       "3    coklat         NaN           NaN  kakak    kasih  \n",
       "4   cokelat         NaN           NaN  kakak      bos  "
      ]
     },
     "execution_count": 7,
     "metadata": {},
     "output_type": "execute_result"
    }
   ],
   "source": [
    "df.head()"
   ]
  },
  {
   "cell_type": "code",
   "execution_count": 8,
   "metadata": {},
   "outputs": [
    {
     "data": {
      "text/plain": [
       "Index(['item', 'brand', 'b-brand', 'i-brand', 'o-brand', 'desc', 'numeric',\n",
       "       'uom', 'color', 'flavor', 'conj-single', 'conj-multiple', 'soo', 'eoo'],\n",
       "      dtype='object')"
      ]
     },
     "execution_count": 8,
     "metadata": {},
     "output_type": "execute_result"
    }
   ],
   "source": [
    "df.columns"
   ]
  },
  {
   "cell_type": "code",
   "execution_count": 9,
   "metadata": {},
   "outputs": [],
   "source": [
    "item = df.item.dropna()\n",
    "brand = df.brand.dropna()\n",
    "b_brand = df['b-brand'].dropna()\n",
    "i_brand = df['i-brand'].dropna()\n",
    "o_brand = df['o-brand'].dropna()\n",
    "desc = df.desc.dropna()\n",
    "numeric = df.numeric.dropna()\n",
    "uom = df.uom.dropna()\n",
    "color = df.color.dropna()\n",
    "flavor = df.flavor.dropna()\n",
    "conj_single = df['conj-single'].dropna()\n",
    "conj_multiple = df['conj-multiple'].dropna()\n",
    "soo = df.soo.dropna()\n",
    "eoo = df.eoo.dropna()"
   ]
  },
  {
   "cell_type": "code",
   "execution_count": 10,
   "metadata": {},
   "outputs": [],
   "source": [
    "dict_entity = {'item':item, 'brand':brand, 'b_brand':b_brand, 'i_brand':i_brand, 'o_brand':o_brand,\n",
    "               'desc':desc, 'numeric':numeric, 'uom':uom, 'color':color, 'flavor':flavor,\n",
    "               'conj_single':conj_single, 'conj_multiple':conj_multiple, 'soo':soo, 'eoo':eoo}\n",
    "\n",
    "dict_label = {'item':'item', 'brand':'brand', 'b_brand':'b-brand', 'i_brand':'i-brand', 'o_brand':'o-brand',\n",
    "               'desc':'desc', 'numeric':'numeric', 'uom':'uom', 'color':'color', 'flavor':'flavor',\n",
    "               'conj_single':'conj-single', 'conj_multiple':'conj-multiple', 'soo':'soo', 'eoo':'eoo'}"
   ]
  },
  {
   "cell_type": "markdown",
   "metadata": {},
   "source": [
    "## Add sentence which have specific format"
   ]
  },
  {
   "cell_type": "code",
   "execution_count": 11,
   "metadata": {},
   "outputs": [],
   "source": [
    "'''Structure of Sentences'''\n",
    "\n",
    "## Sentences that only have 1 word\n",
    "sentence_one = ['item', 'brand', 'b_brand', 'i_brand', 'o_brand', 'desc', 'numeric',\n",
    "                'uom', 'color', 'flavor', 'conj_single', 'conj_multiple', 'soo', 'eoo']\n",
    "## Sentences that only have 2 word\n",
    "sentence_two = [['item','numeric'],['item','desc'],['brand','color'],['brand','flavor'],\n",
    "                ['brand','numeric'],['b_brand','numeric'],['numeric','brand']]\n",
    "## Sentences that only have 3 word\n",
    "sentence_three = [['brand','desc','numeric'],['brand','color','numeric'],['brand','numeric','uom'],\n",
    "                  ['brand','uom','numeric'],['brand','flavor','numeric'],['b_brand','o_brand','numeric'],\n",
    "                  ['item','desc','numeric'],['item','numeric','uom'],['soo','item','numeric'],\n",
    "                  ['b_brand','numeric','eoo'],['soo','item','numeric'],['numeric','i_brand','eoo'],\n",
    "                  ['numeric','o_brand','eoo'],['i_brand','numeric','uom'],['b_brand','o_brand','numeric']]\n",
    "## Sentences that only have 4 word\n",
    "sentence_four = [['brand','uom','numeric','uom'],['numeric','uom','brand','desc'],\n",
    "                 ['numeric','uom','brand','uom'],['desc','uom','numeric','uom'],\n",
    "                 ['item','b_brand','o_brand','numeric'],['item','b_brand','o_brand','numeric'],\n",
    "                 ['b_brand','o_brand','desc','numeric'],['numeric','b_brand','i_brand','o_brand'],\n",
    "                 ['soo','item','numeric','eoo'],['soo','numeric','b_brand','color'],\n",
    "                 ['soo','o_brand','flavor','numeric'],['soo','item','desc','numeric'],\n",
    "                 ['brand','desc','uom','eoo']]\n",
    "## Sentences that only have 5 word\n",
    "sentence_five = [['numeric','uom','brand','uom','uom'],['numeric','uom','brand','flavor','uom'],\n",
    "                 ['numeric','b_brand','o_brand','desc','uom'],['numeric','b_brand','o_brand','desc','uom'],\n",
    "                 ['b_brand','i_brand','o_brand','color','numeric'],['soo','item','desc','numeric','uom'],\n",
    "                 ['soo','o_brand','desc','numeric','eoo'],['item','desc','conj_single','brand','desc'],\n",
    "                 ['soo','numeric','brand','flavor','eoo'],['brand','desc','conj_multiple','b_brand','flavor']]\n",
    "## Sentences that only have 6 word\n",
    "sentence_six = [['b_brand','o_brand','desc','uom','numeric','uom'],\n",
    "                ['soo','brand','desc','conj_multiple','item','desc'],\n",
    "                ['numeric','item','desc','conj_single','o_brand','numeric'],\n",
    "                ['b_brand','i_brand','o_brand','desc','numeric','uom'],\n",
    "                ['soo','b_brand','o_brand','desc','numeric','uom'],\n",
    "                ['b_brand','o_brand','desc','numeric','uom','eoo']]\n",
    "## Sentences that only have 7 word\n",
    "sentence_seven = [['item','b_brand','i_brand','o_brand','desc','numeric','uom'],\n",
    "                  ['brand','color','numeric','conj_single','numeric','uom','brand'],\n",
    "                  ['soo','b_brand','o_brand','flavor','numeric','uom','eoo']]\n",
    "\n",
    "#Combine into 1 list sentences\n",
    "sentences = [sentence_two,sentence_three,sentence_four,sentence_five,sentence_six,sentence_seven]"
   ]
  },
  {
   "cell_type": "code",
   "execution_count": 12,
   "metadata": {},
   "outputs": [
    {
     "data": {
      "application/vnd.jupyter.widget-view+json": {
       "model_id": "409560ef84404ac185dabe4fcb90c8dd",
       "version_major": 2,
       "version_minor": 0
      },
      "text/plain": [
       "HBox(children=(FloatProgress(value=0.0, max=6.0), HTML(value='')))"
      ]
     },
     "metadata": {},
     "output_type": "display_data"
    },
    {
     "data": {
      "application/vnd.jupyter.widget-view+json": {
       "model_id": "dad4c7945c4042a9aaff81e5f971f2d0",
       "version_major": 2,
       "version_minor": 0
      },
      "text/plain": [
       "HBox(children=(FloatProgress(value=0.0, max=7.0), HTML(value='')))"
      ]
     },
     "metadata": {},
     "output_type": "display_data"
    },
    {
     "name": "stdout",
     "output_type": "stream",
     "text": [
      "\n"
     ]
    },
    {
     "data": {
      "application/vnd.jupyter.widget-view+json": {
       "model_id": "49571fb15d994a8a812e28e60bea286f",
       "version_major": 2,
       "version_minor": 0
      },
      "text/plain": [
       "HBox(children=(FloatProgress(value=0.0, max=15.0), HTML(value='')))"
      ]
     },
     "metadata": {},
     "output_type": "display_data"
    },
    {
     "name": "stdout",
     "output_type": "stream",
     "text": [
      "\n"
     ]
    },
    {
     "data": {
      "application/vnd.jupyter.widget-view+json": {
       "model_id": "6858de21eb88471384530ab31a0c4bd4",
       "version_major": 2,
       "version_minor": 0
      },
      "text/plain": [
       "HBox(children=(FloatProgress(value=0.0, max=13.0), HTML(value='')))"
      ]
     },
     "metadata": {},
     "output_type": "display_data"
    },
    {
     "name": "stdout",
     "output_type": "stream",
     "text": [
      "\n"
     ]
    },
    {
     "data": {
      "application/vnd.jupyter.widget-view+json": {
       "model_id": "4cd4db2180814db0a8e84a10ea69dfa0",
       "version_major": 2,
       "version_minor": 0
      },
      "text/plain": [
       "HBox(children=(FloatProgress(value=0.0, max=10.0), HTML(value='')))"
      ]
     },
     "metadata": {},
     "output_type": "display_data"
    },
    {
     "name": "stdout",
     "output_type": "stream",
     "text": [
      "\n"
     ]
    },
    {
     "data": {
      "application/vnd.jupyter.widget-view+json": {
       "model_id": "329c513b4fdd464baf0135d8733c5da2",
       "version_major": 2,
       "version_minor": 0
      },
      "text/plain": [
       "HBox(children=(FloatProgress(value=0.0, max=6.0), HTML(value='')))"
      ]
     },
     "metadata": {},
     "output_type": "display_data"
    },
    {
     "name": "stdout",
     "output_type": "stream",
     "text": [
      "\n"
     ]
    },
    {
     "data": {
      "application/vnd.jupyter.widget-view+json": {
       "model_id": "78c20f3cce8b44f39cf969ceecd46ee4",
       "version_major": 2,
       "version_minor": 0
      },
      "text/plain": [
       "HBox(children=(FloatProgress(value=0.0, max=3.0), HTML(value='')))"
      ]
     },
     "metadata": {},
     "output_type": "display_data"
    },
    {
     "name": "stdout",
     "output_type": "stream",
     "text": [
      "\n",
      "\n"
     ]
    }
   ],
   "source": [
    "for repeat in range(3):\n",
    "    for entity in sentence_one:\n",
    "        for i in dict_entity[entity]:\n",
    "            words.append(i.lower())\n",
    "            labels.append(dict_label[entity])\n",
    "            words.append(np.nan)\n",
    "            labels.append(np.nan)\n",
    "\n",
    "for sentence in tqdm(sentences):\n",
    "    for sent in tqdm(sentence):\n",
    "        for i in range(20000):\n",
    "            for entity in sent:\n",
    "                words.append(random.choice(dict_entity[entity]).lower())\n",
    "                labels.append(dict_label[entity])\n",
    "\n",
    "            words.append(np.nan)\n",
    "            labels.append(np.nan)"
   ]
  },
  {
   "cell_type": "code",
   "execution_count": 13,
   "metadata": {},
   "outputs": [],
   "source": [
    "df_sentences = pd.DataFrame(list(zip(words, labels)))\n",
    "list_sentences = list(zip(words,labels))"
   ]
  },
  {
   "cell_type": "code",
   "execution_count": 14,
   "metadata": {},
   "outputs": [],
   "source": [
    "df_sentences.to_csv('../data/train/train_dataset.csv', sep=',', index=False, header=False)"
   ]
  },
  {
   "cell_type": "code",
   "execution_count": 15,
   "metadata": {},
   "outputs": [
    {
     "data": {
      "application/vnd.jupyter.widget-view+json": {
       "model_id": "d1e8fa9f55f84261a033d1d4620d099c",
       "version_major": 2,
       "version_minor": 0
      },
      "text/plain": [
       "HBox(children=(FloatProgress(value=0.0, max=7217628.0), HTML(value='')))"
      ]
     },
     "metadata": {},
     "output_type": "display_data"
    },
    {
     "name": "stdout",
     "output_type": "stream",
     "text": [
      "\n"
     ]
    },
    {
     "data": {
      "application/vnd.jupyter.widget-view+json": {
       "model_id": "30d0130998cf408090c1d4e05999f76c",
       "version_major": 2,
       "version_minor": 0
      },
      "text/plain": [
       "HBox(children=(FloatProgress(value=1.0, bar_style='info', max=1.0), HTML(value='')))"
      ]
     },
     "metadata": {},
     "output_type": "display_data"
    },
    {
     "name": "stdout",
     "output_type": "stream",
     "text": [
      "\n",
      "total text: 1340817\n"
     ]
    }
   ],
   "source": [
    "words = []\n",
    "labels = []\n",
    "word = []\n",
    "label = []\n",
    "\n",
    "for data in tqdm(list_sentences):\n",
    "    if type(data[0]) == float:\n",
    "        words.append(word)\n",
    "        labels.append(label)\n",
    "        word = []\n",
    "        label = []\n",
    "    else :\n",
    "        word.append(data[0])\n",
    "        label.append(data[1])\n",
    "\n",
    "text = []\n",
    "for a,b in tqdm(zip(words,labels)):\n",
    "    text.append(' '.join(a)+':'+' '.join(b))\n",
    "\n",
    "# Save data as file text\n",
    "print('total text:',len(text))\n",
    "with open('../data/train/train_dataset.txt','w') as outfile:\n",
    "    for line in text:\n",
    "        outfile.write('%s\\n' % line)"
   ]
  },
  {
   "cell_type": "code",
   "execution_count": null,
   "metadata": {},
   "outputs": [],
   "source": []
  }
 ],
 "metadata": {
  "kernelspec": {
   "display_name": "Python 3",
   "language": "python",
   "name": "python3"
  },
  "language_info": {
   "codemirror_mode": {
    "name": "ipython",
    "version": 3
   },
   "file_extension": ".py",
   "mimetype": "text/x-python",
   "name": "python",
   "nbconvert_exporter": "python",
   "pygments_lexer": "ipython3",
   "version": "3.6.9"
  }
 },
 "nbformat": 4,
 "nbformat_minor": 4
}
