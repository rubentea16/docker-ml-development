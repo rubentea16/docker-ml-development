{
 "cells": [
  {
   "cell_type": "code",
   "execution_count": 1,
   "metadata": {},
   "outputs": [],
   "source": [
    "from tqdm.notebook import tqdm\n",
    "\n",
    "filename = \"../data/clean/bahan baku bikin kalimat.xlsx\"\n",
    "filename_spelling = \"../data/clean/dict spelling rev.xlsx\"\n",
    "filename_kata = \"../data/clean/skrip_kata_warung_final.xlsx\""
   ]
  },
  {
   "cell_type": "code",
   "execution_count": 2,
   "metadata": {},
   "outputs": [
    {
     "name": "stderr",
     "output_type": "stream",
     "text": [
      "/usr/local/lib/python3.7/site-packages/pandas/compat/__init__.py:117: UserWarning: Could not import the lzma module. Your installed Python is incomplete. Attempting to use lzma compression will result in a RuntimeError.\n",
      "  warnings.warn(msg)\n"
     ]
    }
   ],
   "source": [
    "import pandas as pd\n",
    "df = pd.read_excel(filename)\n",
    "df_dict = pd.read_excel(filename_spelling)\n",
    "df_kata = pd.read_excel(filename_kata)"
   ]
  },
  {
   "cell_type": "code",
   "execution_count": 3,
   "metadata": {},
   "outputs": [],
   "source": [
    "product = df['Product Variant'].dropna()\n",
    "group = df_dict.Group.dropna()\n",
    "spell = df_dict.Spell.dropna()\n",
    "numeric = df.NUMERIC.dropna()\n",
    "uom = df['Quantity Variant'].dropna()"
   ]
  },
  {
   "cell_type": "code",
   "execution_count": 4,
   "metadata": {},
   "outputs": [],
   "source": [
    "array_group = []\n",
    "array_spell = []\n",
    "array_numeric = []\n",
    "array_product = []\n",
    "array_product_delimiter = []\n",
    "\n",
    "for i in group:\n",
    "    if i != '@':\n",
    "        array_group.append(i)\n",
    "for i in spell:\n",
    "    array_spell.append(i)\n",
    "for i in numeric:\n",
    "    array_numeric.append(i)\n",
    "for i in product:\n",
    "    array_product_delimiter.append(i)\n",
    "    \n",
    "product = product[product!='@']\n",
    "product = product.reset_index(drop=True)    \n",
    "for i in product:\n",
    "    array_product.append(i.strip())"
   ]
  },
  {
   "cell_type": "code",
   "execution_count": 5,
   "metadata": {},
   "outputs": [],
   "source": [
    "join_product = ','.join(array_product_delimiter)\n",
    "join_spell = ','.join(array_spell)\n",
    "join_uom = ','.join(uom)"
   ]
  },
  {
   "cell_type": "code",
   "execution_count": 6,
   "metadata": {},
   "outputs": [],
   "source": [
    "spell = join_spell.split('@')\n",
    "uom = join_uom.split('@')\n",
    "prod = join_product.split('@')\n",
    "spell_word = []\n",
    "uom_word = []\n",
    "prod_word = []\n",
    "\n",
    "for i in spell:\n",
    "    spell_word.append(i.strip(','))\n",
    "for i in uom:\n",
    "    uom_word.append(i.strip(','))\n",
    "for i in prod:\n",
    "    prod_word.append(i.strip(','))"
   ]
  },
  {
   "cell_type": "code",
   "execution_count": 7,
   "metadata": {},
   "outputs": [],
   "source": [
    "# Total product which have this UOM type\n",
    "length_product = []\n",
    "\n",
    "for data in prod_word:\n",
    "    length_product.append(len(data.split(',')))"
   ]
  },
  {
   "cell_type": "code",
   "execution_count": 8,
   "metadata": {},
   "outputs": [],
   "source": [
    "## New UOM\n",
    "new_uom = []\n",
    "\n",
    "for idx in range (len(length_product)):\n",
    "    for i in range (length_product[idx]):\n",
    "        new_uom.append(uom_word[idx])"
   ]
  },
  {
   "cell_type": "code",
   "execution_count": 9,
   "metadata": {},
   "outputs": [],
   "source": [
    "data = []\n",
    "\n",
    "for line in array_product:        \n",
    "    status = False\n",
    "    for group in array_group:\n",
    "        if group in line:\n",
    "            status = True\n",
    "            after_word = spell_word[array_group.index(group)]\n",
    "            temp_uom = new_uom[array_group.index(group)]\n",
    "            \n",
    "            for val_spell in after_word.split(','):\n",
    "                for val_uom in temp_uom.split(','):\n",
    "                    for num in numeric:\n",
    "                        data.append(line.replace(group.strip(), val_spell)+' '+num+' '+val_uom)\n",
    "                        \n",
    "    if status == False:\n",
    "        temp_uom = new_uom[array_product.index(line)]\n",
    "        for val_uom in temp_uom.split(','):\n",
    "            for num in numeric:\n",
    "                data.append(line+' '+num+' '+val_uom)\n",
    "                \n",
    "data = [i.strip() for i in data]"
   ]
  },
  {
   "cell_type": "code",
   "execution_count": 10,
   "metadata": {},
   "outputs": [],
   "source": [
    "for i in range(3):\n",
    "    for idx in range(0,len(data)):\n",
    "        for group in array_group:\n",
    "            if group in data[idx]:\n",
    "                after_word = spell_word[array_group.index(group)]\n",
    "            \n",
    "                for val_spell in after_word.split(','):\n",
    "                    data[idx] = data[idx].replace(group.strip(), val_spell)"
   ]
  },
  {
   "cell_type": "code",
   "execution_count": 11,
   "metadata": {},
   "outputs": [],
   "source": [
    "for idx in range(0,len(data)):\n",
    "    data[idx] = ' '.join(data[idx].split())"
   ]
  },
  {
   "cell_type": "code",
   "execution_count": 12,
   "metadata": {},
   "outputs": [
    {
     "data": {
      "text/plain": [
       "'Larutan Kaki Tiga Botol Kecil Enem Buah'"
      ]
     },
     "execution_count": 12,
     "metadata": {},
     "output_type": "execute_result"
    }
   ],
   "source": [
    "import random\n",
    "random.choice(data)"
   ]
  },
  {
   "cell_type": "code",
   "execution_count": 52,
   "metadata": {},
   "outputs": [],
   "source": [
    "with open('../data/clean/data.txt','w') as outfile:\n",
    "    for line in data:\n",
    "        outfile.write('%s\\n' % line)"
   ]
  },
  {
   "cell_type": "code",
   "execution_count": null,
   "metadata": {},
   "outputs": [],
   "source": []
  }
 ],
 "metadata": {
  "kernelspec": {
   "display_name": "Python 3",
   "language": "python",
   "name": "python3"
  },
  "language_info": {
   "codemirror_mode": {
    "name": "ipython",
    "version": 3
   },
   "file_extension": ".py",
   "mimetype": "text/x-python",
   "name": "python",
   "nbconvert_exporter": "python",
   "pygments_lexer": "ipython3",
   "version": "3.7.0"
  }
 },
 "nbformat": 4,
 "nbformat_minor": 4
}
