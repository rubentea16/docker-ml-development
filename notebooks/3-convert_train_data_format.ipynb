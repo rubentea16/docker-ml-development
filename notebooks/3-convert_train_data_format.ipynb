{
 "cells": [
  {
   "cell_type": "markdown",
   "metadata": {},
   "source": [
    "# Convert Data Format and Add Sentence which have specific format"
   ]
  },
  {
   "cell_type": "code",
   "execution_count": 1,
   "metadata": {},
   "outputs": [
    {
     "data": {
      "text/plain": [
       "'\\n    Before format (1 line) -> Abese Kopi Susu Sachet Satu Saset:BRAND DESCRIPTION DESCRIPTION UOM NUMERIC UOM\\n    \\n    After format (7 line) -> Abese,BRAND \\n                             Kopi,DESCRIPTION\\n                             Susu,DESCRIPTION\\n                             Sachet,UOM\\n                             Satu,NUMERIC\\n                             Saset,UOM\\n                             NaN\\n'"
      ]
     },
     "execution_count": 1,
     "metadata": {},
     "output_type": "execute_result"
    }
   ],
   "source": [
    "\"\"\"\n",
    "    Before format (1 line) -> Abese Kopi Susu Sachet Satu Saset:BRAND DESCRIPTION DESCRIPTION UOM NUMERIC UOM\n",
    "    \n",
    "    After format (7 line) -> Abese,BRAND \n",
    "                             Kopi,DESCRIPTION\n",
    "                             Susu,DESCRIPTION\n",
    "                             Sachet,UOM\n",
    "                             Satu,NUMERIC\n",
    "                             Saset,UOM\n",
    "                             NaN\n",
    "\"\"\""
   ]
  },
  {
   "cell_type": "code",
   "execution_count": 2,
   "metadata": {},
   "outputs": [],
   "source": [
    "import pandas as pd\n",
    "import numpy as np\n",
    "from sklearn.utils import shuffle\n",
    "from tqdm.notebook import tqdm\n",
    "import pandas as pd\n",
    "import random"
   ]
  },
  {
   "cell_type": "code",
   "execution_count": 3,
   "metadata": {},
   "outputs": [],
   "source": [
    "filename = \"../data/clean/data-with-label.txt\"\n",
    "filename_kata = \"../data/clean/dict_order.xlsx\""
   ]
  },
  {
   "cell_type": "code",
   "execution_count": 4,
   "metadata": {},
   "outputs": [],
   "source": [
    "df = pd.read_excel(filename_kata)\n",
    "data = pd.read_csv(filename, sep=\":\", header=None, names=['text','label'])"
   ]
  },
  {
   "cell_type": "code",
   "execution_count": 7,
   "metadata": {},
   "outputs": [],
   "source": [
    "data = shuffle(data)\n",
    "data.reset_index(inplace=True, drop=True)"
   ]
  },
  {
   "cell_type": "code",
   "execution_count": 8,
   "metadata": {},
   "outputs": [
    {
     "data": {
      "application/vnd.jupyter.widget-view+json": {
       "model_id": "7f520c65039a41adb6f47778f2c7c3c6",
       "version_major": 2,
       "version_minor": 0
      },
      "text/plain": [
       "HBox(children=(FloatProgress(value=0.0, max=206837.0), HTML(value='')))"
      ]
     },
     "metadata": {},
     "output_type": "display_data"
    },
    {
     "name": "stdout",
     "output_type": "stream",
     "text": [
      "\n"
     ]
    }
   ],
   "source": [
    "\"\"\"\n",
    "    Proses convert data format\n",
    "    Input : DataFrame berisi text dan label\n",
    "    Output : List (words, labels)\n",
    "\"\"\"\n",
    "words = []\n",
    "labels = []\n",
    "\n",
    "for idx in tqdm(range(len(data))):\n",
    "    length_words = len(data.loc[idx,'text'].split())\n",
    "    tokenize_words = data.loc[idx,'text'].split()\n",
    "    tokenize_labels = data.loc[idx,'label'].split()\n",
    "    \n",
    "    for i in range(length_words):\n",
    "        words.append(tokenize_words[i])\n",
    "        labels.append(tokenize_labels[i])\n",
    "    \n",
    "    words.append(np.nan)\n",
    "    labels.append(np.nan)"
   ]
  },
  {
   "cell_type": "markdown",
   "metadata": {},
   "source": [
    "## Prepare dictionary for entity and label"
   ]
  },
  {
   "cell_type": "code",
   "execution_count": 9,
   "metadata": {},
   "outputs": [
    {
     "data": {
      "text/html": [
       "<div>\n",
       "<style scoped>\n",
       "    .dataframe tbody tr th:only-of-type {\n",
       "        vertical-align: middle;\n",
       "    }\n",
       "\n",
       "    .dataframe tbody tr th {\n",
       "        vertical-align: top;\n",
       "    }\n",
       "\n",
       "    .dataframe thead th {\n",
       "        text-align: right;\n",
       "    }\n",
       "</style>\n",
       "<table border=\"1\" class=\"dataframe\">\n",
       "  <thead>\n",
       "    <tr style=\"text-align: right;\">\n",
       "      <th></th>\n",
       "      <th>item</th>\n",
       "      <th>brand</th>\n",
       "      <th>b-brand</th>\n",
       "      <th>i-brand</th>\n",
       "      <th>o-brand</th>\n",
       "      <th>desc</th>\n",
       "      <th>numeric</th>\n",
       "      <th>uom</th>\n",
       "      <th>color</th>\n",
       "      <th>flavor</th>\n",
       "      <th>conj-single</th>\n",
       "      <th>conj-multiple</th>\n",
       "      <th>soo</th>\n",
       "      <th>eoo</th>\n",
       "      <th>unk</th>\n",
       "    </tr>\n",
       "  </thead>\n",
       "  <tbody>\n",
       "    <tr>\n",
       "      <th>0</th>\n",
       "      <td>amplop</td>\n",
       "      <td>abese</td>\n",
       "      <td>adem</td>\n",
       "      <td>sam</td>\n",
       "      <td>reno</td>\n",
       "      <td>refil</td>\n",
       "      <td>satu</td>\n",
       "      <td>bungkus</td>\n",
       "      <td>hitam</td>\n",
       "      <td>pepermin</td>\n",
       "      <td>atau</td>\n",
       "      <td>dan</td>\n",
       "      <td>mas</td>\n",
       "      <td>oke</td>\n",
       "      <td>unk</td>\n",
       "    </tr>\n",
       "    <tr>\n",
       "      <th>1</th>\n",
       "      <td>susu</td>\n",
       "      <td>abece</td>\n",
       "      <td>san</td>\n",
       "      <td>cap</td>\n",
       "      <td>lang</td>\n",
       "      <td>repil</td>\n",
       "      <td>atu</td>\n",
       "      <td>kecil</td>\n",
       "      <td>item</td>\n",
       "      <td>papermin</td>\n",
       "      <td>ato</td>\n",
       "      <td>sama</td>\n",
       "      <td>bapak</td>\n",
       "      <td>makasih</td>\n",
       "      <td>NaN</td>\n",
       "    </tr>\n",
       "    <tr>\n",
       "      <th>2</th>\n",
       "      <td>donat</td>\n",
       "      <td>ades</td>\n",
       "      <td>anget</td>\n",
       "      <td>kaki</td>\n",
       "      <td>bren</td>\n",
       "      <td>long</td>\n",
       "      <td>tu</td>\n",
       "      <td>kecik</td>\n",
       "      <td>itam</td>\n",
       "      <td>pepermen</td>\n",
       "      <td>NaN</td>\n",
       "      <td>ama</td>\n",
       "      <td>pak</td>\n",
       "      <td>terima</td>\n",
       "      <td>NaN</td>\n",
       "    </tr>\n",
       "    <tr>\n",
       "      <th>3</th>\n",
       "      <td>emping</td>\n",
       "      <td>ale</td>\n",
       "      <td>cap</td>\n",
       "      <td>wan</td>\n",
       "      <td>bran</td>\n",
       "      <td>syain</td>\n",
       "      <td>dua</td>\n",
       "      <td>keteng</td>\n",
       "      <td>coklat</td>\n",
       "      <td>coklat</td>\n",
       "      <td>NaN</td>\n",
       "      <td>NaN</td>\n",
       "      <td>kakak</td>\n",
       "      <td>kasih</td>\n",
       "      <td>NaN</td>\n",
       "    </tr>\n",
       "    <tr>\n",
       "      <th>4</th>\n",
       "      <td>gorengan</td>\n",
       "      <td>apace</td>\n",
       "      <td>bir</td>\n",
       "      <td>gren</td>\n",
       "      <td>super</td>\n",
       "      <td>sine</td>\n",
       "      <td>dobel</td>\n",
       "      <td>ketengan</td>\n",
       "      <td>cokelat</td>\n",
       "      <td>cokelat</td>\n",
       "      <td>NaN</td>\n",
       "      <td>NaN</td>\n",
       "      <td>kakak</td>\n",
       "      <td>bos</td>\n",
       "      <td>NaN</td>\n",
       "    </tr>\n",
       "  </tbody>\n",
       "</table>\n",
       "</div>"
      ],
      "text/plain": [
       "       item  brand b-brand i-brand o-brand   desc numeric       uom    color  \\\n",
       "0    amplop  abese    adem     sam    reno  refil    satu   bungkus    hitam   \n",
       "1      susu  abece     san     cap    lang  repil     atu     kecil     item   \n",
       "2     donat   ades   anget    kaki    bren   long      tu     kecik     itam   \n",
       "3    emping    ale     cap     wan    bran  syain     dua    keteng   coklat   \n",
       "4  gorengan  apace     bir    gren   super   sine   dobel  ketengan  cokelat   \n",
       "\n",
       "     flavor conj-single conj-multiple    soo      eoo  unk  \n",
       "0  pepermin        atau           dan    mas      oke  unk  \n",
       "1  papermin         ato          sama  bapak  makasih  NaN  \n",
       "2  pepermen         NaN           ama    pak   terima  NaN  \n",
       "3    coklat         NaN           NaN  kakak    kasih  NaN  \n",
       "4   cokelat         NaN           NaN  kakak      bos  NaN  "
      ]
     },
     "execution_count": 9,
     "metadata": {},
     "output_type": "execute_result"
    }
   ],
   "source": [
    "df.head()"
   ]
  },
  {
   "cell_type": "code",
   "execution_count": 10,
   "metadata": {},
   "outputs": [
    {
     "data": {
      "text/plain": [
       "Index(['item', 'brand', 'b-brand', 'i-brand', 'o-brand', 'desc', 'numeric',\n",
       "       'uom', 'color', 'flavor', 'conj-single', 'conj-multiple', 'soo', 'eoo',\n",
       "       'unk'],\n",
       "      dtype='object')"
      ]
     },
     "execution_count": 10,
     "metadata": {},
     "output_type": "execute_result"
    }
   ],
   "source": [
    "df.columns"
   ]
  },
  {
   "cell_type": "code",
   "execution_count": 12,
   "metadata": {},
   "outputs": [],
   "source": [
    "item = df.item.dropna()\n",
    "brand = df.brand.dropna()\n",
    "b_brand = df['b-brand'].dropna()\n",
    "i_brand = df['i-brand'].dropna()\n",
    "o_brand = df['o-brand'].dropna()\n",
    "desc = df.desc.dropna()\n",
    "numeric = df.numeric.dropna()\n",
    "uom = df.uom.dropna()\n",
    "color = df.color.dropna()\n",
    "flavor = df.flavor.dropna()\n",
    "conj_single = df['conj-single'].dropna()\n",
    "conj_multiple = df['conj-multiple'].dropna()\n",
    "soo = df.soo.dropna()\n",
    "eoo = df.eoo.dropna()\n",
    "unk = df.unk.dropna()"
   ]
  },
  {
   "cell_type": "code",
   "execution_count": 14,
   "metadata": {},
   "outputs": [],
   "source": [
    "dict_entity = {'item':item, 'brand':brand, 'b_brand':b_brand, 'i_brand':i_brand, 'o_brand':o_brand,\n",
    "               'desc':desc, 'numeric':numeric, 'uom':uom, 'color':color, 'flavor':flavor,\n",
    "               'conj_single':conj_single, 'conj_multiple':conj_multiple, 'soo':soo, 'eoo':eoo, 'unk':unk}\n",
    "\n",
    "dict_label = {'item':'item', 'brand':'brand', 'b_brand':'b-brand', 'i_brand':'i-brand', 'o_brand':'o-brand',\n",
    "               'desc':'desc', 'numeric':'numeric', 'uom':'uom', 'color':'color', 'flavor':'flavor',\n",
    "               'conj_single':'conj-single', 'conj_multiple':'conj-multiple', 'soo':'soo', 'eoo':'eoo',\n",
    "               'unk':'unk'}"
   ]
  },
  {
   "cell_type": "markdown",
   "metadata": {},
   "source": [
    "## Add sentence which have specific format"
   ]
  },
  {
   "cell_type": "code",
   "execution_count": 21,
   "metadata": {},
   "outputs": [],
   "source": [
    "\"\"\"\n",
    "Kalimat yang terdiri dari 1 kata\n",
    "\"\"\"\n",
    "\n",
    "## Sentences that only have 1 word\n",
    "sentence_one = ['item', 'brand', 'b_brand', 'i_brand', 'o_brand', 'desc', 'numeric',\n",
    "                'uom', 'color', 'flavor', 'conj_single', 'conj_multiple', 'soo', 'eoo', 'unk']\n",
    "\n",
    "for entity in sentence_one:\n",
    "    for i in dict_entity[entity]:\n",
    "        words.append(i.lower())\n",
    "        labels.append(dict_label[entity])\n",
    "        words.append(np.nan)\n",
    "        labels.append(np.nan)"
   ]
  },
  {
   "cell_type": "code",
   "execution_count": null,
   "metadata": {},
   "outputs": [],
   "source": [
    "\"\"\"\n",
    "Kalimat yang terdiri dari 2 kata\n",
    "\"\"\"\n",
    "\n",
    "## Sentences that only have 2 word\n",
    "sentence_two = [['item','numeric'],['item','desc'],['brand','numeric'],['numeric','brand'],['b_brand','numeric']]\n",
    "\n",
    "for sentence in sentence_two:\n",
    "    for i in range(15000):\n",
    "        for entity in sentence:\n",
    "            words.append(random.choice(dict_entity[entity]).lower())\n",
    "            labels.append(dict_label[entity])\n",
    "        \n",
    "        words.append(np.nan)\n",
    "        labels.append(np.nan)"
   ]
  },
  {
   "cell_type": "code",
   "execution_count": null,
   "metadata": {},
   "outputs": [],
   "source": [
    "\"\"\"\n",
    "Kalimat yang terdiri dari 3 kata\n",
    "\"\"\"\n",
    "\n",
    "## Sentences that only have 3 word\n",
    "sentence_three = [['brand','desc','numeric'],['item','desc','numeric'],['item','numeric','uom'],\n",
    "                  ['brand','numeric','uom'],['brand','uom','numeric'],['unk','item','numeric'],\n",
    "                  ['numeric','brand','unk'],['b_brand','o_brand','numeric']]\n",
    "\n",
    "for sentence in sentence_three:\n",
    "    for i in range(15000):\n",
    "        for entity in sentence:\n",
    "            words.append(random.choice(dict_entity[entity]).lower())\n",
    "            labels.append(dict_label[entity])\n",
    "        \n",
    "        words.append(np.nan)\n",
    "        labels.append(np.nan)"
   ]
  },
  {
   "cell_type": "code",
   "execution_count": null,
   "metadata": {},
   "outputs": [],
   "source": [
    "\"\"\"\n",
    "Kalimat yang terdiri dari 4 kata\n",
    "\"\"\"\n",
    "\n",
    "## Sentences that only have 4 word\n",
    "sentence_four = [['brand','uom','numeric','uom'],['numeric','uom','brand','desc'],\n",
    "                 ['numeric','uom','brand','uom'],['desc','uom','numeric','uom'],\n",
    "                 ['item','b_brand','o_brand','numeric']]\n",
    "\n",
    "for sentence in sentence_four:\n",
    "    for i in range(15000):\n",
    "        for entity in sentence:\n",
    "            words.append(random.choice(dict_entity[entity]).lower())\n",
    "            labels.append(dict_label[entity])\n",
    "        \n",
    "        words.append(np.nan)\n",
    "        labels.append(np.nan)"
   ]
  },
  {
   "cell_type": "code",
   "execution_count": null,
   "metadata": {},
   "outputs": [],
   "source": [
    "\"\"\"\n",
    "Kalimat yang terdiri dari 5 kata\n",
    "\"\"\"\n",
    "\n",
    "## Sentences that only have 5 word\n",
    "sentence_five = [['numeric','uom','brand','uom','uom'],['numeric','uom','brand','desc','uom'],\n",
    "                 ['numeric','b_brand','o_brand','desc','uom']]\n",
    "\n",
    "for sentence in sentence_five:\n",
    "    for i in range(15000):\n",
    "        for entity in sentence:\n",
    "            words.append(random.choice(dict_entity[entity]).lower())\n",
    "            labels.append(dict_label[entity])\n",
    "        \n",
    "        words.append(np.nan)\n",
    "        labels.append(np.nan)"
   ]
  },
  {
   "cell_type": "code",
   "execution_count": null,
   "metadata": {},
   "outputs": [],
   "source": [
    "\"\"\"\n",
    "Kalimat yang terdiri dari 6 kata\n",
    "\"\"\"\n",
    "\n",
    "## Sentences that only have 6 word\n",
    "sentence_six = [['b_brand','o_brand','desc','uom','numeric','uom']]\n",
    "\n",
    "for sentence in sentence_six:\n",
    "    for i in range(15000):\n",
    "        for entity in sentence:\n",
    "            words.append(random.choice(dict_entity[entity]).lower())\n",
    "            labels.append(dict_label[entity])\n",
    "        \n",
    "        words.append(np.nan)\n",
    "        labels.append(np.nan)"
   ]
  },
  {
   "cell_type": "code",
   "execution_count": null,
   "metadata": {},
   "outputs": [],
   "source": [
    "\"\"\"\n",
    "Add more data for B-I-O\n",
    "\"\"\"\n",
    "\n",
    "sentence_add = [['b_brand','o_brand','numeric'],['item','b_brand','o_brand','numeric'],\n",
    "                  ['b_brand','o_brand','desc','numeric'],['numeric','b_brand','o_brand','desc','uom'],\n",
    "                  ['item','b_brand','i_brand','o_brand','desc','numeric','uom'],\n",
    "                  ['numeric','b_brand','i_brand','o_brand'],['numeric','b_brand','i_brand','o_brand','desc']]\n",
    "\n",
    "for sentence in sentence_add:\n",
    "    for i in range(25000):\n",
    "        for entity in sentence:\n",
    "            words.append(random.choice(dict_entity[entity]).lower())\n",
    "            labels.append(dict_label[entity])\n",
    "        \n",
    "        words.append(np.nan)\n",
    "        labels.append(np.nan)"
   ]
  },
  {
   "cell_type": "code",
   "execution_count": null,
   "metadata": {},
   "outputs": [],
   "source": [
    "# Combine 2 list to dataframe\n",
    "df_sentences = pd.DataFrame(list(zip(words, labels)))"
   ]
  },
  {
   "cell_type": "code",
   "execution_count": null,
   "metadata": {},
   "outputs": [],
   "source": [
    "# lower token\n",
    "lower_token = []\n",
    "\n",
    "for i in df_sentences[0]:\n",
    "    if type(i) != float:\n",
    "        lower_token.append(i.lower())\n",
    "    else:\n",
    "        lower_token.append(i)\n",
    "\n",
    "df_sentences[0] = lower_token"
   ]
  },
  {
   "cell_type": "code",
   "execution_count": null,
   "metadata": {},
   "outputs": [],
   "source": [
    "df_sentences.to_csv('../data/clean/dataset.csv', sep=',', index=False, header=False)"
   ]
  },
  {
   "cell_type": "code",
   "execution_count": null,
   "metadata": {},
   "outputs": [],
   "source": []
  }
 ],
 "metadata": {
  "kernelspec": {
   "display_name": "Python 3",
   "language": "python",
   "name": "python3"
  },
  "language_info": {
   "codemirror_mode": {
    "name": "ipython",
    "version": 3
   },
   "file_extension": ".py",
   "mimetype": "text/x-python",
   "name": "python",
   "nbconvert_exporter": "python",
   "pygments_lexer": "ipython3",
   "version": "3.6.9"
  }
 },
 "nbformat": 4,
 "nbformat_minor": 4
}
