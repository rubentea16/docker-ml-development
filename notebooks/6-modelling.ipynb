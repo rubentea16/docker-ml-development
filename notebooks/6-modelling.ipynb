{
 "cells": [
  {
   "cell_type": "markdown",
   "metadata": {},
   "source": [
    "## Import Library"
   ]
  },
  {
   "cell_type": "code",
   "execution_count": 1,
   "metadata": {},
   "outputs": [
    {
     "name": "stderr",
     "output_type": "stream",
     "text": [
      "Using TensorFlow backend.\n"
     ]
    }
   ],
   "source": [
    "from keras.preprocessing.sequence import pad_sequences\n",
    "from keras_contrib.layers import CRF\n",
    "from keras_contrib.losses import crf_loss\n",
    "from keras_contrib.metrics import crf_accuracy\n",
    "from sklearn.model_selection import train_test_split\n",
    "from tqdm import tqdm_notebook as tqdm\n",
    "import glob\n",
    "import numpy as np\n",
    "import pandas as pd\n",
    "import random\n",
    "import pickle\n",
    "from spacy.lang.xx import MultiLanguage\n",
    "nlp = MultiLanguage() #pre-trained model NER\n",
    "import math"
   ]
  },
  {
   "cell_type": "code",
   "execution_count": 2,
   "metadata": {},
   "outputs": [],
   "source": [
    "def readline(filename):\n",
    "    \"\"\"\n",
    "        read file\n",
    "        return\n",
    "        format [ ['segelas', 'TYPES'], ['douni', 'PRODUCT], ['parfum', 'PRODUCT'], ['collection', 'PRODUCT'], ['fusion', 'PRODUCT']]\n",
    "    \"\"\"\n",
    "    sentences = []\n",
    "    sentence = []\n",
    "    with open(filename, encoding='utf-8') as f:\n",
    "        for i in f:\n",
    "            if(len(i[:-1]) < 2) or i.startswith(\"-DOCSTART-\"):\n",
    "                if len(sentence) > 0:\n",
    "                    sentences.append(sentence)\n",
    "                    sentence = []\n",
    "                continue\n",
    "            splits = i[:-1].split(\",\")\n",
    "            sentence.append([splits[0], splits[-1]])\n",
    "        \n",
    "        if len(sentence) > 0:\n",
    "            sentences.append(sentence)\n",
    "            sentence = []\n",
    "\n",
    "    return sentences"
   ]
  },
  {
   "cell_type": "code",
   "execution_count": 3,
   "metadata": {},
   "outputs": [],
   "source": [
    "def createMatrices(sentences, word2Idx, label2Idx, char2Idx):\n",
    "    \"\"\"\n",
    "    Get the matrices for every dataset. Different with normal NER, we do not use casing-features here, because the input \n",
    "    from ASR would be case insensitive\n",
    "        sentences(list) : list of list of words from the input.\n",
    "        word2Idx(dict)   : Word and its index\n",
    "        label2Idx(dict)   : Label and its index\n",
    "        char2Idx(dict)   : Characters and its index\n",
    "        \n",
    "    Output:\n",
    "        dataset(matrix)   :Matrix containing all of the features.\n",
    "    \"\"\"\n",
    "    unknownIdx = word2Idx[\"UNK\"]\n",
    "    paddingIdx = word2Idx[\"PAD\"]\n",
    "    \n",
    "    dataset = []\n",
    "    \n",
    "    word_count = 0\n",
    "    unknown_word_count = 0\n",
    "    \n",
    "    for sentence in sentences:\n",
    "        word_indices = []\n",
    "        char_indices = []\n",
    "        label_indices = []\n",
    "        for word, char, label in sentence:\n",
    "            word_count += 1\n",
    "            if word in word2Idx:\n",
    "                wordIdx = word2Idx[word]\n",
    "            elif word.lower() in word2Idx:\n",
    "                wordIdx = word2Idx[word.lower()]\n",
    "            else:\n",
    "                wordIdx = unknownIdx\n",
    "                unknown_word_count += 1\n",
    "            \n",
    "            charIdx = []\n",
    "            for x in char:\n",
    "                try:\n",
    "                    charIdx.append(char2Idx[x])\n",
    "                except KeyError:\n",
    "                    charIdx.append(char2Idx[\"UNK\"])\n",
    "            \n",
    "            word_indices.append(wordIdx)\n",
    "            char_indices.append(charIdx)\n",
    "            label_indices.append(label2Idx[label])\n",
    "            \n",
    "        dataset.append([word_indices, char_indices, label_indices])\n",
    "    \n",
    "    return dataset"
   ]
  },
  {
   "cell_type": "code",
   "execution_count": 4,
   "metadata": {},
   "outputs": [],
   "source": [
    "def addCharInformation(sentences):\n",
    "    \"\"\"\n",
    "    Split the word in the sentences from 1 dataset into list of characters:\n",
    "        ex: [[\"S\",\"e\",\"l\",\"a\",\"m\",\"a\",\"t\"],[\"P\",\"a\",\"g\",\"i\"]]\n",
    "    Input:\n",
    "        sentences(list)   : The dataset\n",
    "    \"\"\"    \n",
    "    for i, sentence in enumerate(sentences):\n",
    "        for j, data in enumerate(sentence):\n",
    "            chars = [i for i in data[0]]\n",
    "            sentences[i][j] = [data[0], chars, data[1]] ## data[0] is token, chars is chars of token, data[1] is label/entity\n",
    "    return sentences"
   ]
  },
  {
   "cell_type": "code",
   "execution_count": 5,
   "metadata": {},
   "outputs": [],
   "source": [
    "def padding(sentences):\n",
    "    \"\"\"\n",
    "    Because the batches already with same length, we are not padding it anymore. We padding the characters instead\n",
    "        ex: [[\"S\",\"e\",\"l\",\"a\",\"m\",\"a\",\"t\"],[\"P\",\"a\",\"g\",\"i\",\"<PAD>\",\"<PAD>\",\"<PAD>\"]]\n",
    "        \n",
    "    Input:\n",
    "        sentence(list)   :The dataset\n",
    "    \"\"\"\n",
    "    \n",
    "    maxwordlength = 15 #15 character max in 1 word\n",
    "    for i,sentence in enumerate(sentences):\n",
    "        sentences[i][1] = pad_sequences(sentences[i][1], maxwordlength, padding='pre',truncating='post')\n",
    "    return sentences"
   ]
  },
  {
   "cell_type": "code",
   "execution_count": 6,
   "metadata": {},
   "outputs": [],
   "source": [
    "def createBatches(data):\n",
    "    \"\"\"\n",
    "    Create the batches for train_on_batch keras.\n",
    "    Input:\n",
    "        data(list)   :The dataset\n",
    "    \"\"\"\n",
    "    l = []\n",
    "    for i in data:\n",
    "        l.append(len(i[0]))\n",
    "    l = set(l)  ## kata\n",
    "    batches = []\n",
    "    batch_len = []\n",
    "    z = 0\n",
    "    \n",
    "    for i in l:\n",
    "        for batch in data:\n",
    "            if(len(batch[0]) == i):\n",
    "                batches.append(batch)\n",
    "                z+=1\n",
    "        batch_len.append(z)\n",
    "    return batches, batch_len"
   ]
  },
  {
   "cell_type": "code",
   "execution_count": 7,
   "metadata": {},
   "outputs": [],
   "source": [
    "def iterate_minibatches(dataset,batch_len):\n",
    "    \"\"\"\n",
    "    Generator for dataset to be yielded during training\n",
    "    Input:\n",
    "        Dataset(list) : The dataset\n",
    "        batch_len(list) :Start and end batch_len\n",
    "    Output:\n",
    "        Array of [labels, tokens, casing, char] features\n",
    "    \"\"\"\n",
    "    while True:\n",
    "        start = 0\n",
    "        for i in batch_len:\n",
    "            tokens = []\n",
    "            char = []\n",
    "            labels = []\n",
    "            data = dataset[start:i]\n",
    "            start = i\n",
    "            for dt in data:\n",
    "                t,ch,l = dt\n",
    "                l = np.expand_dims(l, -1)\n",
    "                tokens.append(t)\n",
    "                char.append(ch)\n",
    "                labels.append(l)\n",
    "            feature = [np.asarray(tokens),np.asarray(char)]\n",
    "            yield feature, np.asarray(labels)"
   ]
  },
  {
   "cell_type": "code",
   "execution_count": 8,
   "metadata": {},
   "outputs": [],
   "source": [
    "## Predict data\n",
    "def tag_dataset(dataset):\n",
    "    correctLabels = []\n",
    "    predLabels = []\n",
    "    b = Progbar(len(dataset))\n",
    "    for i, data in enumerate(dataset):\n",
    "        tokens, char, labels = data\n",
    "        tokens = np.asarray([tokens])\n",
    "        char = np.asarray([char])\n",
    "        \n",
    "        pred = model.predict([tokens, char], verbose = False)[0]\n",
    "        pred = pred.argmax(axis = -1) #Predict the classes\n",
    "        correctLabels.append(labels)\n",
    "        predLabels.append(pred)\n",
    "        b.update(i)\n",
    "    b.update(i+1)\n",
    "    \n",
    "    return predLabels, correctLabels"
   ]
  },
  {
   "cell_type": "markdown",
   "metadata": {},
   "source": [
    "# 1. Open the file needed and Convert the word into list of chars"
   ]
  },
  {
   "cell_type": "code",
   "execution_count": 9,
   "metadata": {},
   "outputs": [],
   "source": [
    "trainSentences = readline(\"../data/clean/dataset.csv\")\n",
    "trainSentences = addCharInformation(trainSentences)\n",
    "\n",
    "testSentences = readline(\"../data/clean/test.csv\")\n",
    "testSentences = addCharInformation(testSentences)"
   ]
  },
  {
   "cell_type": "markdown",
   "metadata": {},
   "source": [
    "# 2. Get the Label from the dataset, and convert it to index"
   ]
  },
  {
   "cell_type": "code",
   "execution_count": 10,
   "metadata": {
    "scrolled": true
   },
   "outputs": [],
   "source": [
    "label_set = set()\n",
    "words = {}\n",
    "for sentence in trainSentences:\n",
    "    for token, char, label in sentence:\n",
    "        label_set.add(label)\n",
    "        words[token.lower()] = True\n",
    "\n",
    "label2idx = {v:k for k,v in enumerate(sorted(label_set))}\n",
    "idx2label = {v:k for k,v in label2idx.items()}"
   ]
  },
  {
   "cell_type": "markdown",
   "metadata": {},
   "source": [
    "# 3. Mittens Word Embedding (Extensions for GloVe model). Its retrofitting model"
   ]
  },
  {
   "cell_type": "code",
   "execution_count": 11,
   "metadata": {},
   "outputs": [],
   "source": [
    "## Load word2idx pickle\n",
    "pickle_word2idx_glove = open(\"../data/pickle_file/word2idx_glove.pkl\",\"rb\")\n",
    "word2idx_glove = pickle.load(pickle_word2idx_glove)\n",
    "word2Idx = {i[0]:i[1] for i in word2idx_glove}\n",
    "\n",
    "## Load mittens embedding\n",
    "embedding_file_path = '../model/mittens_embedding.pkl'\n",
    "wordEmbeddings = pickle.load(open(embedding_file_path, \"rb\"))"
   ]
  },
  {
   "cell_type": "code",
   "execution_count": 12,
   "metadata": {},
   "outputs": [],
   "source": [
    "## n-dimensional vector of word embeddings\n",
    "n_dim = wordEmbeddings.shape[1]\n",
    "\n",
    "word2Idx.update({'PAD': len(word2Idx)})\n",
    "wordEmbeddings = np.concatenate((wordEmbeddings, np.zeros((1, n_dim))))\n",
    "word2Idx.update({'UNK': len(word2Idx)})\n",
    "wordEmbeddings = np.concatenate((wordEmbeddings, np.random.uniform(-0.25*10**-3, 0.25*10**-3,n_dim).reshape((1,n_dim))))"
   ]
  },
  {
   "cell_type": "markdown",
   "metadata": {},
   "source": [
    "# 4. Get list of characters and its index"
   ]
  },
  {
   "cell_type": "code",
   "execution_count": 13,
   "metadata": {},
   "outputs": [],
   "source": [
    "char2Idx = {\"PAD\":0, \"UNK\":1}\n",
    "for c in \" 0123456789abcdefghijklmnopqrstuvwxyzABCDEFGHIJKLMNOPQRSTUVWXYZ.,-_()[]{}!?:;#'\\\"/\\\\%$`&=*+@^~|\":\n",
    "    char2Idx[c] = len(char2Idx)"
   ]
  },
  {
   "cell_type": "markdown",
   "metadata": {},
   "source": [
    "# 5. Create Dataset"
   ]
  },
  {
   "cell_type": "code",
   "execution_count": 14,
   "metadata": {
    "scrolled": true
   },
   "outputs": [],
   "source": [
    "train_set = createMatrices(trainSentences, \n",
    "               word2Idx = word2Idx, \n",
    "               label2Idx = label2idx,\n",
    "               char2Idx = char2Idx)\n",
    "\n",
    "test_set = createMatrices(testSentences, \n",
    "               word2Idx = word2Idx, \n",
    "               label2Idx = label2idx,\n",
    "               char2Idx = char2Idx)"
   ]
  },
  {
   "cell_type": "code",
   "execution_count": 15,
   "metadata": {},
   "outputs": [],
   "source": [
    "train_set = padding(train_set)\n",
    "test_set = padding(test_set)"
   ]
  },
  {
   "cell_type": "code",
   "execution_count": 16,
   "metadata": {},
   "outputs": [],
   "source": [
    "X_train, X_test = train_test_split(train_set, train_size = 0.75, random_state=42, shuffle=True)\n",
    "X_val, X_test = train_test_split(X_test, train_size= 0.5, random_state=42, shuffle=True)"
   ]
  },
  {
   "cell_type": "code",
   "execution_count": 17,
   "metadata": {
    "scrolled": true
   },
   "outputs": [],
   "source": [
    "train_batch, train_batch_len = createBatches(X_train)\n",
    "val_batch, val_batch_len = createBatches(X_val)\n",
    "test_batch, test_batch_len = createBatches(X_test)\n",
    "real_test_batch, real_test_batch_len = createBatches(test_set)"
   ]
  },
  {
   "cell_type": "code",
   "execution_count": 18,
   "metadata": {},
   "outputs": [
    {
     "name": "stdout",
     "output_type": "stream",
     "text": [
      "[553, 56916, 168505, 305244, 430514, 501430, 557167, 568741, 572517, 575337]\n",
      "[107, 9581, 28194, 51000, 72005, 83810, 92874, 94765, 95435, 95890]\n",
      "[82, 9245, 27815, 50906, 71750, 83610, 92845, 94755, 95393, 95890]\n",
      "[156, 3634, 22854, 55564, 83042, 101962, 121306, 127466]\n"
     ]
    }
   ],
   "source": [
    "print(train_batch_len)\n",
    "print(val_batch_len)\n",
    "print(test_batch_len)\n",
    "print(real_test_batch_len)"
   ]
  },
  {
   "cell_type": "code",
   "execution_count": 19,
   "metadata": {},
   "outputs": [],
   "source": [
    "batch_size = 256\n",
    "train_batch_size = []\n",
    "val_batch_size = []\n",
    "test_batch_size = []\n",
    "real_test_batch_size = []\n",
    "\n",
    "## Change training batch size\n",
    "for val in range(batch_size, max(train_batch_len), batch_size):\n",
    "    train_batch_size.append(val)\n",
    "for val in train_batch_len:\n",
    "    train_batch_size.append(val)\n",
    "    \n",
    "train_batch_size.sort()\n",
    "\n",
    "## Change validation batch size\n",
    "for val in range(batch_size, max(val_batch_len), batch_size):\n",
    "    val_batch_size.append(val)\n",
    "for val in val_batch_len:\n",
    "    val_batch_size.append(val)\n",
    "    \n",
    "val_batch_size.sort()\n",
    "\n",
    "## Change testing batch size\n",
    "for val in range(batch_size, max(test_batch_len), batch_size):\n",
    "    test_batch_size.append(val)\n",
    "for val in test_batch_len:\n",
    "    test_batch_size.append(val)\n",
    "\n",
    "test_batch_size.sort()\n",
    "\n",
    "## Change real testing batch size\n",
    "for val in range(batch_size, max(real_test_batch_len), batch_size):\n",
    "    real_test_batch_size.append(val)\n",
    "for val in real_test_batch_len:\n",
    "    real_test_batch_size.append(val)\n",
    "\n",
    "real_test_batch_size.sort()"
   ]
  },
  {
   "cell_type": "markdown",
   "metadata": {},
   "source": [
    "# Model"
   ]
  },
  {
   "cell_type": "code",
   "execution_count": 20,
   "metadata": {},
   "outputs": [],
   "source": [
    "from keras.layers import Input, Embedding, Dropout, TimeDistributed, Conv1D, Dense, multiply, CuDNNLSTM, GlobalAveragePooling1D\n",
    "from keras.layers import Concatenate, MaxPooling1D, GlobalMaxPooling1D, Flatten, Bidirectional, LSTM, ThresholdedReLU\n",
    "from keras.initializers import RandomUniform\n",
    "from keras.models import Model, load_model\n",
    "from keras.utils import plot_model,Progbar\n",
    "from keras.callbacks import EarlyStopping\n",
    "from keras_multi_head import MultiHeadAttention\n",
    "from keras import optimizers"
   ]
  },
  {
   "cell_type": "code",
   "execution_count": 21,
   "metadata": {},
   "outputs": [],
   "source": [
    "maxwordlength = 15\n",
    "dropout_p = 0.5\n",
    "char_embedding_dim = 30"
   ]
  },
  {
   "cell_type": "code",
   "execution_count": 22,
   "metadata": {},
   "outputs": [],
   "source": [
    "def get_word_embed(wordEmbeddings):\n",
    "    ## Input Layer\n",
    "    words_input = Input(shape = (None,), dtype = np.int32, name = 'words_input')\n",
    "    ## Embedding Layer\n",
    "    words = Embedding(input_dim = wordEmbeddings.shape[0],\n",
    "                      output_dim = wordEmbeddings.shape[1],\n",
    "                      weights = [wordEmbeddings],\n",
    "                      trainable = False)(words_input)\n",
    "    return words_input, words"
   ]
  },
  {
   "cell_type": "code",
   "execution_count": 23,
   "metadata": {},
   "outputs": [],
   "source": [
    "def get_char_embed(maxwordlength, char2Idx, char_embedding_dim):\n",
    "    ## Input Layer\n",
    "    chars_input = Input(shape = (None, maxwordlength, ), name = 'chars_input')\n",
    "    ## Embedding Layer\n",
    "    chars = TimeDistributed(Embedding(input_dim = len(char2Idx),\n",
    "                  output_dim = char_embedding_dim,\n",
    "                  embeddings_initializer = RandomUniform(minval=-0.5, maxval=0.5)))(chars_input)\n",
    "    return chars_input, chars"
   ]
  },
  {
   "cell_type": "code",
   "execution_count": 24,
   "metadata": {},
   "outputs": [],
   "source": [
    "def get_model(dropout_p, chars, words):\n",
    "    ## Convolution layer\n",
    "    conv = TimeDistributed(Dropout(dropout_p))(chars)\n",
    "    conv = TimeDistributed(Conv1D(filters = 30,\n",
    "                                  kernel_size = 3,\n",
    "                                  padding = 'same',\n",
    "                                  activation = 'tanh',\n",
    "                                  strides = 1))(conv)\n",
    "    conv = TimeDistributed(MaxPooling1D(maxwordlength))(conv)\n",
    "    ## Flatten\n",
    "    conv = TimeDistributed(Flatten())(conv)\n",
    "    chars = TimeDistributed(Dropout(dropout_p))(conv)\n",
    "    ## Concatenate words embed and char-representation\n",
    "    output = Concatenate()([words, chars])\n",
    "    ## Bi-LSTM\n",
    "    output = Bidirectional(CuDNNLSTM(200, kernel_initializer='random_uniform',\n",
    "                           bias_initializer='zeros', return_sequences = True))(output)\n",
    "    ## Dropout\n",
    "    output = Dropout(dropout_p)(output)\n",
    "    ## MultiHeadAttention\n",
    "    attn = MultiHeadAttention(head_num=400, name = 'Multi-head')(output)\n",
    "    ## LSTM\n",
    "    output = CuDNNLSTM(200, kernel_initializer='random_uniform',\n",
    "             bias_initializer='zeros', return_sequences = True)(attn)\n",
    "    ## Dropout\n",
    "    output = Dropout(dropout_p)(output)\n",
    "    ## CRF\n",
    "    crf = CRF(len(label2idx), sparse_target=True)\n",
    "    output = crf(output)\n",
    "    \n",
    "    return output"
   ]
  },
  {
   "cell_type": "code",
   "execution_count": 25,
   "metadata": {},
   "outputs": [
    {
     "name": "stdout",
     "output_type": "stream",
     "text": [
      "WARNING:tensorflow:From /usr/local/lib/python3.6/dist-packages/tensorflow_core/python/ops/resource_variable_ops.py:1630: calling BaseResourceVariable.__init__ (from tensorflow.python.ops.resource_variable_ops) with constraint is deprecated and will be removed in a future version.\n",
      "Instructions for updating:\n",
      "If using Keras pass *_constraint arguments to layers.\n",
      "WARNING:tensorflow:From /usr/local/lib/python3.6/dist-packages/keras/backend/tensorflow_backend.py:4070: The name tf.nn.max_pool is deprecated. Please use tf.nn.max_pool2d instead.\n",
      "\n"
     ]
    }
   ],
   "source": [
    "words_input, words = get_word_embed(wordEmbeddings)\n",
    "chars_input, chars = get_char_embed(maxwordlength, char2Idx, char_embedding_dim)\n",
    "output = get_model(dropout_p, chars, words)"
   ]
  },
  {
   "cell_type": "code",
   "execution_count": 26,
   "metadata": {
    "scrolled": true
   },
   "outputs": [
    {
     "name": "stdout",
     "output_type": "stream",
     "text": [
      "WARNING:tensorflow:From /usr/local/lib/python3.6/dist-packages/tensorflow_core/python/ops/math_ops.py:2509: where (from tensorflow.python.ops.array_ops) is deprecated and will be removed in a future version.\n",
      "Instructions for updating:\n",
      "Use tf.where in 2.0, which has the same broadcast rule as np.where\n",
      "Model: \"model_1\"\n",
      "__________________________________________________________________________________________________\n",
      "Layer (type)                    Output Shape         Param #     Connected to                     \n",
      "==================================================================================================\n",
      "chars_input (InputLayer)        (None, None, 15)     0                                            \n",
      "__________________________________________________________________________________________________\n",
      "time_distributed_1 (TimeDistrib (None, None, 15, 30) 2850        chars_input[0][0]                \n",
      "__________________________________________________________________________________________________\n",
      "time_distributed_2 (TimeDistrib (None, None, 15, 30) 0           time_distributed_1[0][0]         \n",
      "__________________________________________________________________________________________________\n",
      "time_distributed_3 (TimeDistrib (None, None, 15, 30) 2730        time_distributed_2[0][0]         \n",
      "__________________________________________________________________________________________________\n",
      "time_distributed_4 (TimeDistrib (None, None, 1, 30)  0           time_distributed_3[0][0]         \n",
      "__________________________________________________________________________________________________\n",
      "words_input (InputLayer)        (None, None)         0                                            \n",
      "__________________________________________________________________________________________________\n",
      "time_distributed_5 (TimeDistrib (None, None, 30)     0           time_distributed_4[0][0]         \n",
      "__________________________________________________________________________________________________\n",
      "embedding_1 (Embedding)         (None, None, 300)    210000      words_input[0][0]                \n",
      "__________________________________________________________________________________________________\n",
      "time_distributed_6 (TimeDistrib (None, None, 30)     0           time_distributed_5[0][0]         \n",
      "__________________________________________________________________________________________________\n",
      "concatenate_1 (Concatenate)     (None, None, 330)    0           embedding_1[0][0]                \n",
      "                                                                 time_distributed_6[0][0]         \n",
      "__________________________________________________________________________________________________\n",
      "bidirectional_1 (Bidirectional) (None, None, 400)    851200      concatenate_1[0][0]              \n",
      "__________________________________________________________________________________________________\n",
      "dropout_3 (Dropout)             (None, None, 400)    0           bidirectional_1[0][0]            \n",
      "__________________________________________________________________________________________________\n",
      "Multi-head (MultiHeadAttention) (None, None, 400)    641600      dropout_3[0][0]                  \n",
      "__________________________________________________________________________________________________\n",
      "cu_dnnlstm_2 (CuDNNLSTM)        (None, None, 200)    481600      Multi-head[0][0]                 \n",
      "__________________________________________________________________________________________________\n",
      "dropout_4 (Dropout)             (None, None, 200)    0           cu_dnnlstm_2[0][0]               \n",
      "__________________________________________________________________________________________________\n",
      "crf_1 (CRF)                     (None, None, 11)     2354        dropout_4[0][0]                  \n",
      "==================================================================================================\n",
      "Total params: 2,192,334\n",
      "Trainable params: 1,982,334\n",
      "Non-trainable params: 210,000\n",
      "__________________________________________________________________________________________________\n",
      "None\n"
     ]
    }
   ],
   "source": [
    "## Optimizer\n",
    "nadam = optimizers.Nadam(learning_rate=0.001, beta_1=0.9, beta_2=0.999)\n",
    "\n",
    "model = Model(inputs = [words_input, chars_input], outputs = [output])\n",
    "model.compile(loss = crf_loss, optimizer = nadam, metrics=[crf_accuracy])\n",
    "print(model.summary())"
   ]
  },
  {
   "cell_type": "markdown",
   "metadata": {},
   "source": [
    "# Training Process"
   ]
  },
  {
   "cell_type": "code",
   "execution_count": 27,
   "metadata": {
    "scrolled": true
   },
   "outputs": [
    {
     "name": "stdout",
     "output_type": "stream",
     "text": [
      "WARNING:tensorflow:From /usr/local/lib/python3.6/dist-packages/keras/backend/tensorflow_backend.py:422: The name tf.global_variables is deprecated. Please use tf.compat.v1.global_variables instead.\n",
      "\n",
      "Epoch 1/50\n",
      "2257/2257 [==============================] - 244s 108ms/step - loss: -0.1540 - crf_accuracy: 0.9783 - val_loss: -0.1527 - val_crf_accuracy: 0.9316\n",
      "Epoch 2/50\n",
      "2257/2257 [==============================] - 225s 100ms/step - loss: -0.6134 - crf_accuracy: 0.9968 - val_loss: -0.3383 - val_crf_accuracy: 0.9317\n",
      "Epoch 3/50\n",
      "2257/2257 [==============================] - 226s 100ms/step - loss: -1.0332 - crf_accuracy: 0.9981 - val_loss: -0.3128 - val_crf_accuracy: 0.9297\n",
      "Epoch 4/50\n",
      "2257/2257 [==============================] - 225s 100ms/step - loss: -1.4517 - crf_accuracy: 0.9985 - val_loss: -0.5739 - val_crf_accuracy: 0.9289\n",
      "Epoch 5/50\n",
      "2257/2257 [==============================] - 224s 99ms/step - loss: -1.8692 - crf_accuracy: 0.9988 - val_loss: -0.5933 - val_crf_accuracy: 0.9228\n",
      "Epoch 6/50\n",
      "2257/2257 [==============================] - 224s 99ms/step - loss: -2.2854 - crf_accuracy: 0.9988 - val_loss: -0.7924 - val_crf_accuracy: 0.9320\n",
      "Epoch 7/50\n",
      "2257/2257 [==============================] - 226s 100ms/step - loss: -2.7022 - crf_accuracy: 0.9991 - val_loss: -0.9666 - val_crf_accuracy: 0.9303\n",
      "Epoch 8/50\n",
      "2257/2257 [==============================] - 224s 99ms/step - loss: -3.1187 - crf_accuracy: 0.9991 - val_loss: -0.9238 - val_crf_accuracy: 0.9276\n",
      "Epoch 9/50\n",
      "2257/2257 [==============================] - 222s 99ms/step - loss: -3.5348 - crf_accuracy: 0.9991 - val_loss: -1.1646 - val_crf_accuracy: 0.9317\n",
      "Epoch 10/50\n",
      "2257/2257 [==============================] - 222s 99ms/step - loss: -3.9507 - crf_accuracy: 0.9991 - val_loss: -1.0105 - val_crf_accuracy: 0.9238\n",
      "Epoch 11/50\n",
      "2257/2257 [==============================] - 223s 99ms/step - loss: -4.3666 - crf_accuracy: 0.9991 - val_loss: -1.2785 - val_crf_accuracy: 0.9251\n",
      "Epoch 12/50\n",
      "2257/2257 [==============================] - 223s 99ms/step - loss: -4.7826 - crf_accuracy: 0.9987 - val_loss: -1.1822 - val_crf_accuracy: 0.9300\n",
      "Epoch 13/50\n",
      "2257/2257 [==============================] - 222s 98ms/step - loss: -5.1987 - crf_accuracy: 0.9989 - val_loss: -1.2900 - val_crf_accuracy: 0.9288\n",
      "Epoch 14/50\n",
      "2257/2257 [==============================] - 220s 98ms/step - loss: -5.6149 - crf_accuracy: 0.9991 - val_loss: -1.4472 - val_crf_accuracy: 0.9293\n",
      "Epoch 15/50\n",
      "2257/2257 [==============================] - 220s 98ms/step - loss: -6.0306 - crf_accuracy: 0.9991 - val_loss: -1.1602 - val_crf_accuracy: 0.9202\n",
      "Epoch 16/50\n",
      "2257/2257 [==============================] - 222s 98ms/step - loss: -6.4468 - crf_accuracy: 0.9992 - val_loss: -1.4132 - val_crf_accuracy: 0.9283\n",
      "Epoch 00016: early stopping\n"
     ]
    }
   ],
   "source": [
    "## Generator\n",
    "train_generator = iterate_minibatches(train_batch, train_batch_size)\n",
    "val_generator = iterate_minibatches(val_batch, val_batch_size)\n",
    "test_generator = iterate_minibatches(real_test_batch, real_test_batch_size)\n",
    "\n",
    "early_stopping_callback = EarlyStopping(monitor='val_crf_accuracy', mode='max', verbose=1, patience=10)\n",
    "epochs = 50\n",
    "history = model.fit_generator(train_generator, steps_per_epoch=len(train_batch_size), epochs=epochs,\n",
    "                    callbacks=[early_stopping_callback],\n",
    "                    validation_data=test_generator, validation_steps=len(real_test_batch_size))"
   ]
  },
  {
   "cell_type": "code",
   "execution_count": 28,
   "metadata": {},
   "outputs": [],
   "source": [
    "model.save(\"../model/ner_warung.h5\")"
   ]
  },
  {
   "cell_type": "markdown",
   "metadata": {},
   "source": [
    "## Plot model accuracy and loss"
   ]
  },
  {
   "cell_type": "code",
   "execution_count": 29,
   "metadata": {},
   "outputs": [
    {
     "name": "stdout",
     "output_type": "stream",
     "text": [
      "dict_keys(['val_loss', 'val_crf_accuracy', 'loss', 'crf_accuracy'])\n"
     ]
    },
    {
     "data": {
      "image/png": "[encoded data removed]",
      "text/plain": [
       "<Figure size 432x288 with 1 Axes>"
      ]
     },
     "metadata": {
      "needs_background": "light"
     },
     "output_type": "display_data"
    },
    {
     "data": {
      "image/png": "[encoded data removed]",
      "text/plain": [
       "<Figure size 432x288 with 1 Axes>"
      ]
     },
     "metadata": {
      "needs_background": "light"
     },
     "output_type": "display_data"
    }
   ],
   "source": [
    "import matplotlib.pyplot as plt\n",
    "%matplotlib inline\n",
    "# list all data in history\n",
    "print(history.history.keys())\n",
    "# summarize history for accuracy\n",
    "plt.plot(history.history['crf_accuracy'])\n",
    "plt.plot(history.history['val_crf_accuracy'])\n",
    "plt.title('model accuracy')\n",
    "plt.ylabel('accuracy')\n",
    "plt.xlabel('epoch')\n",
    "plt.legend(['train', 'test'], loc='upper left')\n",
    "plt.show()\n",
    "# summarize history for loss\n",
    "plt.plot(history.history['loss'])\n",
    "plt.plot(history.history['val_loss'])\n",
    "plt.title('model loss')\n",
    "plt.ylabel('loss')\n",
    "plt.xlabel('epoch')\n",
    "plt.legend(['train', 'test'], loc='upper left')\n",
    "plt.show()"
   ]
  },
  {
   "cell_type": "code",
   "execution_count": 30,
   "metadata": {},
   "outputs": [],
   "source": [
    "import pickle\n",
    "pickle.dump(word2Idx,open(\"../data/pickle_file/word2idx.pkl\", \"wb\"))\n",
    "pickle.dump(char2Idx, open(\"../data/pickle_file/char2idx.pkl\",\"wb\"))\n",
    "pickle.dump(label2idx, open(\"../data/pickle_file/label2idx.pkl\",\"wb\"))"
   ]
  },
  {
   "cell_type": "code",
   "execution_count": 31,
   "metadata": {},
   "outputs": [],
   "source": [
    "model = load_model(\"../model/ner_warung.h5\",\n",
    "                   custom_objects ={'CRF':CRF,\n",
    "                                   'crf_loss':crf_loss,\n",
    "                                   'crf_accuracy':crf_accuracy,\n",
    "                                   'MultiHeadAttention':MultiHeadAttention})"
   ]
  },
  {
   "cell_type": "code",
   "execution_count": 32,
   "metadata": {},
   "outputs": [],
   "source": [
    "def checkaccuracy(predict_label,correct_label):\n",
    "    count = 0\n",
    "    for i in zip(predict_label, correct_label):\n",
    "        if(i[0] != i[1]):\n",
    "            count += 1\n",
    "    if(count == 0):\n",
    "        return 1\n",
    "    else:\n",
    "        return 0"
   ]
  },
  {
   "cell_type": "code",
   "execution_count": 33,
   "metadata": {},
   "outputs": [
    {
     "name": "stdout",
     "output_type": "stream",
     "text": [
      "95890/95890 [==============================] - 783s 8ms/step\n",
      "Accuracy: 0.9967045573052455\n"
     ]
    }
   ],
   "source": [
    "# Performance on dev dataset\n",
    "predLabels, correctLabels = tag_dataset(test_batch)\n",
    "\n",
    "# Calculate Performance of model on data\n",
    "counter = 0\n",
    "for i in range(len(predLabels)):\n",
    "    counter += checkaccuracy(predLabels[i], correctLabels[i])\n",
    "print(\"Accuracy:\", counter/len(predLabels))"
   ]
  },
  {
   "cell_type": "markdown",
   "metadata": {},
   "source": [
    "# Fine Tuning using Bayesian Optimization"
   ]
  },
  {
   "cell_type": "code",
   "execution_count": 34,
   "metadata": {},
   "outputs": [],
   "source": [
    "def fit_with(verbose, wordEmbeddings, maxwordlength, char2Idx, char_embedding_dim, train_generator, \n",
    "             train_batch_size, test_generator, real_test_batch_size, dropout_p, lr):\n",
    "    \n",
    "    # Create the embedding\n",
    "    words_input, words = get_word_embed(wordEmbeddings)\n",
    "    chars_input, chars = get_char_embed(maxwordlength, char2Idx, char_embedding_dim)\n",
    "    \n",
    "    # Create the model using a specified hyperparameters.\n",
    "    model = get_model(dropout_p, chars, words)\n",
    "\n",
    "    # Train the model for a specified number of epochs.\n",
    "    optimizer = optimizers.Nadam(learning_rate=lr, beta_1=0.9, beta_2=0.999)\n",
    "    model = Model(inputs = [words_input, chars_input], outputs = [model])\n",
    "    model.compile(loss = crf_loss, optimizer = optimizer, metrics=[crf_accuracy])\n",
    "\n",
    "    # Train the model with the train dataset.\n",
    "    print('Starting--')\n",
    "    epochs = 10\n",
    "    model.fit_generator(train_generator, steps_per_epoch=len(train_batch_size), epochs=epochs)\n",
    "\n",
    "    # Evaluate the model with the test dataset.\n",
    "    score = model.evaluate_generator(test_generator, steps=len(real_test_batch_size))\n",
    "    print('Test loss:', score[0])\n",
    "    print('Test accuracy:', score[1])\n",
    "\n",
    "    # Return the accuracy.\n",
    "    return score[1]"
   ]
  },
  {
   "cell_type": "code",
   "execution_count": 35,
   "metadata": {},
   "outputs": [],
   "source": [
    "from functools import partial\n",
    "\n",
    "verbose = 1\n",
    "fit_with_partial = partial(fit_with, verbose, wordEmbeddings, maxwordlength, char2Idx,\n",
    "                           char_embedding_dim, train_generator,train_batch_size, test_generator,\n",
    "                           real_test_batch_size)"
   ]
  },
  {
   "cell_type": "code",
   "execution_count": 36,
   "metadata": {},
   "outputs": [
    {
     "name": "stdout",
     "output_type": "stream",
     "text": [
      "Starting--\n",
      "Epoch 1/10\n",
      "2257/2257 [==============================] - 206s 91ms/step - loss: -2.1069 - crf_accuracy: 0.9582\n",
      "Epoch 2/10\n",
      "2257/2257 [==============================] - 212s 94ms/step - loss: -5.9491 - crf_accuracy: 0.9184\n",
      "Epoch 3/10\n",
      "2257/2257 [==============================] - 213s 94ms/step - loss: -9.8961 - crf_accuracy: 0.8510\n",
      "Epoch 4/10\n",
      "2257/2257 [==============================] - 214s 95ms/step - loss: -13.8383 - crf_accuracy: 0.8248\n",
      "Epoch 5/10\n",
      "2257/2257 [==============================] - 217s 96ms/step - loss: -17.7596 - crf_accuracy: 0.8109\n",
      "Epoch 6/10\n",
      "2257/2257 [==============================] - 217s 96ms/step - loss: -21.7415 - crf_accuracy: 0.7938\n",
      "Epoch 7/10\n",
      "2257/2257 [==============================] - 216s 96ms/step - loss: -25.7547 - crf_accuracy: 0.7989\n",
      "Epoch 8/10\n",
      "2257/2257 [==============================] - 217s 96ms/step - loss: -29.6334 - crf_accuracy: 0.7714\n",
      "Epoch 9/10\n",
      "2257/2257 [==============================] - 217s 96ms/step - loss: -33.6046 - crf_accuracy: 0.7646\n",
      "Epoch 10/10\n",
      "2257/2257 [==============================] - 216s 96ms/step - loss: -37.6029 - crf_accuracy: 0.7638\n",
      "Test loss: -41.02900314331055\n",
      "Test accuracy: 0.5520066618919373\n",
      "WARNING:tensorflow:Large dropout rate: 0.606198 (>0.5). In TensorFlow 2.x, dropout() uses dropout rate instead of keep_prob. Please ensure that this is intended.\n",
      "WARNING:tensorflow:Large dropout rate: 0.606198 (>0.5). In TensorFlow 2.x, dropout() uses dropout rate instead of keep_prob. Please ensure that this is intended.\n",
      "WARNING:tensorflow:Large dropout rate: 0.606198 (>0.5). In TensorFlow 2.x, dropout() uses dropout rate instead of keep_prob. Please ensure that this is intended.\n",
      "WARNING:tensorflow:Large dropout rate: 0.606198 (>0.5). In TensorFlow 2.x, dropout() uses dropout rate instead of keep_prob. Please ensure that this is intended.\n",
      "Starting--\n",
      "Epoch 1/10\n",
      "2257/2257 [==============================] - 217s 96ms/step - loss: -1.4203 - crf_accuracy: 0.9729\n",
      "Epoch 2/10\n",
      "2257/2257 [==============================] - 217s 96ms/step - loss: -4.0239 - crf_accuracy: 0.9689\n",
      "Epoch 3/10\n",
      "2257/2257 [==============================] - 217s 96ms/step - loss: -6.6677 - crf_accuracy: 0.9305\n",
      "Epoch 4/10\n",
      "2257/2257 [==============================] - 218s 97ms/step - loss: -9.2939 - crf_accuracy: 0.8814\n",
      "Epoch 5/10\n",
      "2257/2257 [==============================] - 218s 96ms/step - loss: -11.9504 - crf_accuracy: 0.8545\n",
      "Epoch 6/10\n",
      "2257/2257 [==============================] - 217s 96ms/step - loss: -14.5914 - crf_accuracy: 0.8423\n",
      "Epoch 7/10\n",
      "2257/2257 [==============================] - 217s 96ms/step - loss: -17.2352 - crf_accuracy: 0.8312\n",
      "Epoch 8/10\n",
      "2257/2257 [==============================] - 217s 96ms/step - loss: -19.8791 - crf_accuracy: 0.8256\n",
      "Epoch 9/10\n",
      "2257/2257 [==============================] - 217s 96ms/step - loss: -22.5331 - crf_accuracy: 0.8128\n",
      "Epoch 10/10\n",
      "2257/2257 [==============================] - 217s 96ms/step - loss: -25.1742 - crf_accuracy: 0.8104\n",
      "Test loss: -23.278160095214844\n",
      "Test accuracy: 0.6649611592292786\n",
      "Starting--\n",
      "Epoch 1/10\n",
      " 911/2257 [===========>..................] - ETA: 2:08 - loss: -0.2283 - crf_accuracy: 0.9661"
     ]
    },
    {
     "name": "stderr",
     "output_type": "stream",
     "text": [
      "Exception ignored in: <bound method BaseSession._Callable.__del__ of <tensorflow.python.client.session.BaseSession._Callable object at 0x7eff13ca7a90>>\n",
      "Traceback (most recent call last):\n",
      "  File \"/usr/local/lib/python3.6/dist-packages/tensorflow_core/python/client/session.py\", line 1481, in __del__\n",
      "    def __del__(self):\n",
      "KeyboardInterrupt: \n"
     ]
    },
    {
     "ename": "KeyboardInterrupt",
     "evalue": "",
     "output_type": "error",
     "traceback": [
      "\u001b[0;31m\u001b[0m",
      "\u001b[0;31mKeyError\u001b[0mTraceback (most recent call last)",
      "\u001b[0;32m/usr/local/lib/python3.6/dist-packages/bayes_opt/target_space.py\u001b[0m in \u001b[0;36mprobe\u001b[0;34m(self, params)\u001b[0m\n\u001b[1;32m    190\u001b[0m         \u001b[0;32mtry\u001b[0m\u001b[0;34m:\u001b[0m\u001b[0;34m\u001b[0m\u001b[0;34m\u001b[0m\u001b[0m\n\u001b[0;32m--> 191\u001b[0;31m             \u001b[0mtarget\u001b[0m \u001b[0;34m=\u001b[0m \u001b[0mself\u001b[0m\u001b[0;34m.\u001b[0m\u001b[0m_cache\u001b[0m\u001b[0;34m[\u001b[0m\u001b[0m_hashable\u001b[0m\u001b[0;34m(\u001b[0m\u001b[0mx\u001b[0m\u001b[0;34m)\u001b[0m\u001b[0;34m]\u001b[0m\u001b[0;34m\u001b[0m\u001b[0;34m\u001b[0m\u001b[0m\n\u001b[0m\u001b[1;32m    192\u001b[0m         \u001b[0;32mexcept\u001b[0m \u001b[0mKeyError\u001b[0m\u001b[0;34m:\u001b[0m\u001b[0;34m\u001b[0m\u001b[0;34m\u001b[0m\u001b[0m\n",
      "\u001b[0;31mKeyError\u001b[0m: (0.40460652415485276, 0.002403950683025824)",
      "\nDuring handling of the above exception, another exception occurred:\n",
      "\u001b[0;31mKeyboardInterrupt\u001b[0mTraceback (most recent call last)",
      "\u001b[0;32m<ipython-input-36-0c6cc542e81f>\u001b[0m in \u001b[0;36m<module>\u001b[0;34m\u001b[0m\n\u001b[1;32m     16\u001b[0m \u001b[0mlogger\u001b[0m \u001b[0;34m=\u001b[0m \u001b[0mJSONLogger\u001b[0m\u001b[0;34m(\u001b[0m\u001b[0mpath\u001b[0m\u001b[0;34m=\u001b[0m\u001b[0;34m\"../model/logs.json\"\u001b[0m\u001b[0;34m)\u001b[0m\u001b[0;34m\u001b[0m\u001b[0;34m\u001b[0m\u001b[0m\n\u001b[1;32m     17\u001b[0m \u001b[0moptimizer\u001b[0m\u001b[0;34m.\u001b[0m\u001b[0msubscribe\u001b[0m\u001b[0;34m(\u001b[0m\u001b[0mEvents\u001b[0m\u001b[0;34m.\u001b[0m\u001b[0mOPTIMIZATION_STEP\u001b[0m\u001b[0;34m,\u001b[0m \u001b[0mlogger\u001b[0m\u001b[0;34m)\u001b[0m\u001b[0;34m\u001b[0m\u001b[0;34m\u001b[0m\u001b[0m\n\u001b[0;32m---> 18\u001b[0;31m \u001b[0moptimizer\u001b[0m\u001b[0;34m.\u001b[0m\u001b[0mmaximize\u001b[0m\u001b[0;34m(\u001b[0m\u001b[0minit_points\u001b[0m\u001b[0;34m=\u001b[0m\u001b[0;36m3\u001b[0m\u001b[0;34m,\u001b[0m \u001b[0mn_iter\u001b[0m\u001b[0;34m=\u001b[0m\u001b[0;36m50\u001b[0m\u001b[0;34m)\u001b[0m\u001b[0;34m\u001b[0m\u001b[0;34m\u001b[0m\u001b[0m\n\u001b[0m\u001b[1;32m     19\u001b[0m \u001b[0;34m\u001b[0m\u001b[0m\n\u001b[1;32m     20\u001b[0m \u001b[0;31m# New optimizer is loaded with previously seen points\u001b[0m\u001b[0;34m\u001b[0m\u001b[0;34m\u001b[0m\u001b[0;34m\u001b[0m\u001b[0m\n",
      "\u001b[0;32m/usr/local/lib/python3.6/dist-packages/bayes_opt/bayesian_optimization.py\u001b[0m in \u001b[0;36mmaximize\u001b[0;34m(self, init_points, n_iter, acq, kappa, xi, **gp_params)\u001b[0m\n\u001b[1;32m    172\u001b[0m                 \u001b[0miteration\u001b[0m \u001b[0;34m+=\u001b[0m \u001b[0;36m1\u001b[0m\u001b[0;34m\u001b[0m\u001b[0;34m\u001b[0m\u001b[0m\n\u001b[1;32m    173\u001b[0m \u001b[0;34m\u001b[0m\u001b[0m\n\u001b[0;32m--> 174\u001b[0;31m             \u001b[0mself\u001b[0m\u001b[0;34m.\u001b[0m\u001b[0mprobe\u001b[0m\u001b[0;34m(\u001b[0m\u001b[0mx_probe\u001b[0m\u001b[0;34m,\u001b[0m \u001b[0mlazy\u001b[0m\u001b[0;34m=\u001b[0m\u001b[0;32mFalse\u001b[0m\u001b[0;34m)\u001b[0m\u001b[0;34m\u001b[0m\u001b[0;34m\u001b[0m\u001b[0m\n\u001b[0m\u001b[1;32m    175\u001b[0m \u001b[0;34m\u001b[0m\u001b[0m\n\u001b[1;32m    176\u001b[0m         \u001b[0mself\u001b[0m\u001b[0;34m.\u001b[0m\u001b[0mdispatch\u001b[0m\u001b[0;34m(\u001b[0m\u001b[0mEvents\u001b[0m\u001b[0;34m.\u001b[0m\u001b[0mOPTIMIZATION_END\u001b[0m\u001b[0;34m)\u001b[0m\u001b[0;34m\u001b[0m\u001b[0;34m\u001b[0m\u001b[0m\n",
      "\u001b[0;32m/usr/local/lib/python3.6/dist-packages/bayes_opt/bayesian_optimization.py\u001b[0m in \u001b[0;36mprobe\u001b[0;34m(self, params, lazy)\u001b[0m\n\u001b[1;32m    110\u001b[0m             \u001b[0mself\u001b[0m\u001b[0;34m.\u001b[0m\u001b[0m_queue\u001b[0m\u001b[0;34m.\u001b[0m\u001b[0madd\u001b[0m\u001b[0;34m(\u001b[0m\u001b[0mparams\u001b[0m\u001b[0;34m)\u001b[0m\u001b[0;34m\u001b[0m\u001b[0;34m\u001b[0m\u001b[0m\n\u001b[1;32m    111\u001b[0m         \u001b[0;32melse\u001b[0m\u001b[0;34m:\u001b[0m\u001b[0;34m\u001b[0m\u001b[0;34m\u001b[0m\u001b[0m\n\u001b[0;32m--> 112\u001b[0;31m             \u001b[0mself\u001b[0m\u001b[0;34m.\u001b[0m\u001b[0m_space\u001b[0m\u001b[0;34m.\u001b[0m\u001b[0mprobe\u001b[0m\u001b[0;34m(\u001b[0m\u001b[0mparams\u001b[0m\u001b[0;34m)\u001b[0m\u001b[0;34m\u001b[0m\u001b[0;34m\u001b[0m\u001b[0m\n\u001b[0m\u001b[1;32m    113\u001b[0m             \u001b[0mself\u001b[0m\u001b[0;34m.\u001b[0m\u001b[0mdispatch\u001b[0m\u001b[0;34m(\u001b[0m\u001b[0mEvents\u001b[0m\u001b[0;34m.\u001b[0m\u001b[0mOPTIMIZATION_STEP\u001b[0m\u001b[0;34m)\u001b[0m\u001b[0;34m\u001b[0m\u001b[0;34m\u001b[0m\u001b[0m\n\u001b[1;32m    114\u001b[0m \u001b[0;34m\u001b[0m\u001b[0m\n",
      "\u001b[0;32m/usr/local/lib/python3.6/dist-packages/bayes_opt/target_space.py\u001b[0m in \u001b[0;36mprobe\u001b[0;34m(self, params)\u001b[0m\n\u001b[1;32m    192\u001b[0m         \u001b[0;32mexcept\u001b[0m \u001b[0mKeyError\u001b[0m\u001b[0;34m:\u001b[0m\u001b[0;34m\u001b[0m\u001b[0;34m\u001b[0m\u001b[0m\n\u001b[1;32m    193\u001b[0m             \u001b[0mparams\u001b[0m \u001b[0;34m=\u001b[0m \u001b[0mdict\u001b[0m\u001b[0;34m(\u001b[0m\u001b[0mzip\u001b[0m\u001b[0;34m(\u001b[0m\u001b[0mself\u001b[0m\u001b[0;34m.\u001b[0m\u001b[0m_keys\u001b[0m\u001b[0;34m,\u001b[0m \u001b[0mx\u001b[0m\u001b[0;34m)\u001b[0m\u001b[0;34m)\u001b[0m\u001b[0;34m\u001b[0m\u001b[0;34m\u001b[0m\u001b[0m\n\u001b[0;32m--> 194\u001b[0;31m             \u001b[0mtarget\u001b[0m \u001b[0;34m=\u001b[0m \u001b[0mself\u001b[0m\u001b[0;34m.\u001b[0m\u001b[0mtarget_func\u001b[0m\u001b[0;34m(\u001b[0m\u001b[0;34m**\u001b[0m\u001b[0mparams\u001b[0m\u001b[0;34m)\u001b[0m\u001b[0;34m\u001b[0m\u001b[0;34m\u001b[0m\u001b[0m\n\u001b[0m\u001b[1;32m    195\u001b[0m             \u001b[0mself\u001b[0m\u001b[0;34m.\u001b[0m\u001b[0mregister\u001b[0m\u001b[0;34m(\u001b[0m\u001b[0mx\u001b[0m\u001b[0;34m,\u001b[0m \u001b[0mtarget\u001b[0m\u001b[0;34m)\u001b[0m\u001b[0;34m\u001b[0m\u001b[0;34m\u001b[0m\u001b[0m\n\u001b[1;32m    196\u001b[0m         \u001b[0;32mreturn\u001b[0m \u001b[0mtarget\u001b[0m\u001b[0;34m\u001b[0m\u001b[0;34m\u001b[0m\u001b[0m\n",
      "\u001b[0;32m<ipython-input-34-fb46f5abbf84>\u001b[0m in \u001b[0;36mfit_with\u001b[0;34m(verbose, wordEmbeddings, maxwordlength, char2Idx, char_embedding_dim, train_generator, train_batch_size, test_generator, real_test_batch_size, dropout_p, lr)\u001b[0m\n\u001b[1;32m     17\u001b[0m     \u001b[0mprint\u001b[0m\u001b[0;34m(\u001b[0m\u001b[0;34m'Starting--'\u001b[0m\u001b[0;34m)\u001b[0m\u001b[0;34m\u001b[0m\u001b[0;34m\u001b[0m\u001b[0m\n\u001b[1;32m     18\u001b[0m     \u001b[0mepochs\u001b[0m \u001b[0;34m=\u001b[0m \u001b[0;36m10\u001b[0m\u001b[0;34m\u001b[0m\u001b[0;34m\u001b[0m\u001b[0m\n\u001b[0;32m---> 19\u001b[0;31m     \u001b[0mmodel\u001b[0m\u001b[0;34m.\u001b[0m\u001b[0mfit_generator\u001b[0m\u001b[0;34m(\u001b[0m\u001b[0mtrain_generator\u001b[0m\u001b[0;34m,\u001b[0m \u001b[0msteps_per_epoch\u001b[0m\u001b[0;34m=\u001b[0m\u001b[0mlen\u001b[0m\u001b[0;34m(\u001b[0m\u001b[0mtrain_batch_size\u001b[0m\u001b[0;34m)\u001b[0m\u001b[0;34m,\u001b[0m \u001b[0mepochs\u001b[0m\u001b[0;34m=\u001b[0m\u001b[0mepochs\u001b[0m\u001b[0;34m)\u001b[0m\u001b[0;34m\u001b[0m\u001b[0;34m\u001b[0m\u001b[0m\n\u001b[0m\u001b[1;32m     20\u001b[0m \u001b[0;34m\u001b[0m\u001b[0m\n\u001b[1;32m     21\u001b[0m     \u001b[0;31m# Evaluate the model with the test dataset.\u001b[0m\u001b[0;34m\u001b[0m\u001b[0;34m\u001b[0m\u001b[0;34m\u001b[0m\u001b[0m\n",
      "\u001b[0;32m/usr/local/lib/python3.6/dist-packages/keras/legacy/interfaces.py\u001b[0m in \u001b[0;36mwrapper\u001b[0;34m(*args, **kwargs)\u001b[0m\n\u001b[1;32m     89\u001b[0m                 warnings.warn('Update your `' + object_name + '` call to the ' +\n\u001b[1;32m     90\u001b[0m                               'Keras 2 API: ' + signature, stacklevel=2)\n\u001b[0;32m---> 91\u001b[0;31m             \u001b[0;32mreturn\u001b[0m \u001b[0mfunc\u001b[0m\u001b[0;34m(\u001b[0m\u001b[0;34m*\u001b[0m\u001b[0margs\u001b[0m\u001b[0;34m,\u001b[0m \u001b[0;34m**\u001b[0m\u001b[0mkwargs\u001b[0m\u001b[0;34m)\u001b[0m\u001b[0;34m\u001b[0m\u001b[0;34m\u001b[0m\u001b[0m\n\u001b[0m\u001b[1;32m     92\u001b[0m         \u001b[0mwrapper\u001b[0m\u001b[0;34m.\u001b[0m\u001b[0m_original_function\u001b[0m \u001b[0;34m=\u001b[0m \u001b[0mfunc\u001b[0m\u001b[0;34m\u001b[0m\u001b[0;34m\u001b[0m\u001b[0m\n\u001b[1;32m     93\u001b[0m         \u001b[0;32mreturn\u001b[0m \u001b[0mwrapper\u001b[0m\u001b[0;34m\u001b[0m\u001b[0;34m\u001b[0m\u001b[0m\n",
      "\u001b[0;32m/usr/local/lib/python3.6/dist-packages/keras/engine/training.py\u001b[0m in \u001b[0;36mfit_generator\u001b[0;34m(self, generator, steps_per_epoch, epochs, verbose, callbacks, validation_data, validation_steps, validation_freq, class_weight, max_queue_size, workers, use_multiprocessing, shuffle, initial_epoch)\u001b[0m\n\u001b[1;32m   1730\u001b[0m             \u001b[0muse_multiprocessing\u001b[0m\u001b[0;34m=\u001b[0m\u001b[0muse_multiprocessing\u001b[0m\u001b[0;34m,\u001b[0m\u001b[0;34m\u001b[0m\u001b[0;34m\u001b[0m\u001b[0m\n\u001b[1;32m   1731\u001b[0m             \u001b[0mshuffle\u001b[0m\u001b[0;34m=\u001b[0m\u001b[0mshuffle\u001b[0m\u001b[0;34m,\u001b[0m\u001b[0;34m\u001b[0m\u001b[0;34m\u001b[0m\u001b[0m\n\u001b[0;32m-> 1732\u001b[0;31m             initial_epoch=initial_epoch)\n\u001b[0m\u001b[1;32m   1733\u001b[0m \u001b[0;34m\u001b[0m\u001b[0m\n\u001b[1;32m   1734\u001b[0m     \u001b[0;34m@\u001b[0m\u001b[0minterfaces\u001b[0m\u001b[0;34m.\u001b[0m\u001b[0mlegacy_generator_methods_support\u001b[0m\u001b[0;34m\u001b[0m\u001b[0;34m\u001b[0m\u001b[0m\n",
      "\u001b[0;32m/usr/local/lib/python3.6/dist-packages/keras/engine/training_generator.py\u001b[0m in \u001b[0;36mfit_generator\u001b[0;34m(model, generator, steps_per_epoch, epochs, verbose, callbacks, validation_data, validation_steps, validation_freq, class_weight, max_queue_size, workers, use_multiprocessing, shuffle, initial_epoch)\u001b[0m\n\u001b[1;32m    218\u001b[0m                                             \u001b[0msample_weight\u001b[0m\u001b[0;34m=\u001b[0m\u001b[0msample_weight\u001b[0m\u001b[0;34m,\u001b[0m\u001b[0;34m\u001b[0m\u001b[0;34m\u001b[0m\u001b[0m\n\u001b[1;32m    219\u001b[0m                                             \u001b[0mclass_weight\u001b[0m\u001b[0;34m=\u001b[0m\u001b[0mclass_weight\u001b[0m\u001b[0;34m,\u001b[0m\u001b[0;34m\u001b[0m\u001b[0;34m\u001b[0m\u001b[0m\n\u001b[0;32m--> 220\u001b[0;31m                                             reset_metrics=False)\n\u001b[0m\u001b[1;32m    221\u001b[0m \u001b[0;34m\u001b[0m\u001b[0m\n\u001b[1;32m    222\u001b[0m                 \u001b[0mouts\u001b[0m \u001b[0;34m=\u001b[0m \u001b[0mto_list\u001b[0m\u001b[0;34m(\u001b[0m\u001b[0mouts\u001b[0m\u001b[0;34m)\u001b[0m\u001b[0;34m\u001b[0m\u001b[0;34m\u001b[0m\u001b[0m\n",
      "\u001b[0;32m/usr/local/lib/python3.6/dist-packages/keras/engine/training.py\u001b[0m in \u001b[0;36mtrain_on_batch\u001b[0;34m(self, x, y, sample_weight, class_weight, reset_metrics)\u001b[0m\n\u001b[1;32m   1512\u001b[0m             \u001b[0mins\u001b[0m \u001b[0;34m=\u001b[0m \u001b[0mx\u001b[0m \u001b[0;34m+\u001b[0m \u001b[0my\u001b[0m \u001b[0;34m+\u001b[0m \u001b[0msample_weights\u001b[0m\u001b[0;34m\u001b[0m\u001b[0;34m\u001b[0m\u001b[0m\n\u001b[1;32m   1513\u001b[0m         \u001b[0mself\u001b[0m\u001b[0;34m.\u001b[0m\u001b[0m_make_train_function\u001b[0m\u001b[0;34m(\u001b[0m\u001b[0;34m)\u001b[0m\u001b[0;34m\u001b[0m\u001b[0;34m\u001b[0m\u001b[0m\n\u001b[0;32m-> 1514\u001b[0;31m         \u001b[0moutputs\u001b[0m \u001b[0;34m=\u001b[0m \u001b[0mself\u001b[0m\u001b[0;34m.\u001b[0m\u001b[0mtrain_function\u001b[0m\u001b[0;34m(\u001b[0m\u001b[0mins\u001b[0m\u001b[0;34m)\u001b[0m\u001b[0;34m\u001b[0m\u001b[0;34m\u001b[0m\u001b[0m\n\u001b[0m\u001b[1;32m   1515\u001b[0m \u001b[0;34m\u001b[0m\u001b[0m\n\u001b[1;32m   1516\u001b[0m         \u001b[0;32mif\u001b[0m \u001b[0mreset_metrics\u001b[0m\u001b[0;34m:\u001b[0m\u001b[0;34m\u001b[0m\u001b[0;34m\u001b[0m\u001b[0m\n",
      "\u001b[0;32m/usr/local/lib/python3.6/dist-packages/tensorflow_core/python/keras/backend.py\u001b[0m in \u001b[0;36m__call__\u001b[0;34m(self, inputs)\u001b[0m\n\u001b[1;32m   3474\u001b[0m \u001b[0;34m\u001b[0m\u001b[0m\n\u001b[1;32m   3475\u001b[0m     fetched = self._callable_fn(*array_vals,\n\u001b[0;32m-> 3476\u001b[0;31m                                 run_metadata=self.run_metadata)\n\u001b[0m\u001b[1;32m   3477\u001b[0m     \u001b[0mself\u001b[0m\u001b[0;34m.\u001b[0m\u001b[0m_call_fetch_callbacks\u001b[0m\u001b[0;34m(\u001b[0m\u001b[0mfetched\u001b[0m\u001b[0;34m[\u001b[0m\u001b[0;34m-\u001b[0m\u001b[0mlen\u001b[0m\u001b[0;34m(\u001b[0m\u001b[0mself\u001b[0m\u001b[0;34m.\u001b[0m\u001b[0m_fetches\u001b[0m\u001b[0;34m)\u001b[0m\u001b[0;34m:\u001b[0m\u001b[0;34m]\u001b[0m\u001b[0;34m)\u001b[0m\u001b[0;34m\u001b[0m\u001b[0;34m\u001b[0m\u001b[0m\n\u001b[1;32m   3478\u001b[0m     output_structure = nest.pack_sequence_as(\n",
      "\u001b[0;32m/usr/local/lib/python3.6/dist-packages/tensorflow_core/python/client/session.py\u001b[0m in \u001b[0;36m__call__\u001b[0;34m(self, *args, **kwargs)\u001b[0m\n\u001b[1;32m   1470\u001b[0m         ret = tf_session.TF_SessionRunCallable(self._session._session,\n\u001b[1;32m   1471\u001b[0m                                                \u001b[0mself\u001b[0m\u001b[0;34m.\u001b[0m\u001b[0m_handle\u001b[0m\u001b[0;34m,\u001b[0m \u001b[0margs\u001b[0m\u001b[0;34m,\u001b[0m\u001b[0;34m\u001b[0m\u001b[0;34m\u001b[0m\u001b[0m\n\u001b[0;32m-> 1472\u001b[0;31m                                                run_metadata_ptr)\n\u001b[0m\u001b[1;32m   1473\u001b[0m         \u001b[0;32mif\u001b[0m \u001b[0mrun_metadata\u001b[0m\u001b[0;34m:\u001b[0m\u001b[0;34m\u001b[0m\u001b[0;34m\u001b[0m\u001b[0m\n\u001b[1;32m   1474\u001b[0m           \u001b[0mproto_data\u001b[0m \u001b[0;34m=\u001b[0m \u001b[0mtf_session\u001b[0m\u001b[0;34m.\u001b[0m\u001b[0mTF_GetBuffer\u001b[0m\u001b[0;34m(\u001b[0m\u001b[0mrun_metadata_ptr\u001b[0m\u001b[0;34m)\u001b[0m\u001b[0;34m\u001b[0m\u001b[0;34m\u001b[0m\u001b[0m\n",
      "\u001b[0;31mKeyboardInterrupt\u001b[0m: "
     ]
    }
   ],
   "source": [
    "from bayes_opt import BayesianOptimization\n",
    "from bayes_opt.logger import JSONLogger\n",
    "from bayes_opt.event import Events\n",
    "from bayes_opt.util import load_logs\n",
    "\n",
    "# Bounded region of parameter space\n",
    "pbounds = {'dropout_p': (0.35, 0.7), 'lr': (0.001, 0.01)}\n",
    "\n",
    "optimizer = BayesianOptimization(\n",
    "    f=fit_with_partial,\n",
    "    pbounds=pbounds,\n",
    "    verbose=2,\n",
    "    random_state=42,\n",
    ")\n",
    "\n",
    "logger = JSONLogger(path=\"../model/logs.json\")\n",
    "optimizer.subscribe(Events.OPTIMIZATION_STEP, logger)\n",
    "optimizer.maximize(init_points=3, n_iter=50)\n",
    "\n",
    "# New optimizer is loaded with previously seen points\n",
    "load_logs(optimizer, logs=[\"../model/logs.json\"])\n",
    "\n",
    "for i, res in enumerate(optimizer.res):\n",
    "    print(\"Iteration {}: \\n\\t{}\".format(i, res))\n",
    "\n",
    "print(\"Result Fine Tuning : \", optimizer.max)"
   ]
  },
  {
   "cell_type": "code",
   "execution_count": null,
   "metadata": {},
   "outputs": [],
   "source": []
  }
 ],
 "metadata": {
  "anaconda-cloud": {},
  "kernelspec": {
   "display_name": "Python 3",
   "language": "python",
   "name": "python3"
  },
  "language_info": {
   "codemirror_mode": {
    "name": "ipython",
    "version": 3
   },
   "file_extension": ".py",
   "mimetype": "text/x-python",
   "name": "python",
   "nbconvert_exporter": "python",
   "pygments_lexer": "ipython3",
   "version": "3.6.9"
  },
  "widgets": {
   "state": {
    "c32dac7758044c1aa849ee962fef82bf": {
     "views": [
      {
       "cell_index": 14
      }
     ]
    }
   },
   "version": "1.2.0"
  }
 },
 "nbformat": 4,
 "nbformat_minor": 4
}
