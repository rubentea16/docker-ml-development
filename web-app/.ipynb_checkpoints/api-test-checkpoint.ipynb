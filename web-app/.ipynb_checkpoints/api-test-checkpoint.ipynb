{
 "cells": [
  {
   "cell_type": "code",
   "execution_count": 1,
   "metadata": {},
   "outputs": [
    {
     "name": "stdout",
     "output_type": "stream",
     "text": [
      "['order : abese kopi susu lima saset', \"entity : ['BRAND', 'DESCRIPTION', 'DESCRIPTION', 'NUMERIC', 'UOM']\"]\n",
      "\n",
      "['order : jarcok tiga batang', \"entity : ['BRAND', 'NUMERIC', 'UOM']\"]\n",
      "\n"
     ]
    }
   ],
   "source": [
    "import requests\n",
    "\n",
    "url = 'http://localhost:5000/result'\n",
    "r = requests.post(url,json={'text':'abese kopi susu lima saset\\njarcok tiga batang'})\n",
    "\n",
    "for i in range(len(r.json())):\n",
    "    print(r.json()[i])\n",
    "    print()"
   ]
  },
  {
   "cell_type": "code",
   "execution_count": null,
   "metadata": {},
   "outputs": [],
   "source": []
  }
 ],
 "metadata": {
  "kernelspec": {
   "display_name": "Python 3",
   "language": "python",
   "name": "python3"
  },
  "language_info": {
   "codemirror_mode": {
    "name": "ipython",
    "version": 3
   },
   "file_extension": ".py",
   "mimetype": "text/x-python",
   "name": "python",
   "nbconvert_exporter": "python",
   "pygments_lexer": "ipython3",
   "version": "3.6.9"
  }
 },
 "nbformat": 4,
 "nbformat_minor": 4
}
